{
 "cells": [
  {
   "cell_type": "markdown",
   "metadata": {
    "id": "-NhDLmNN35IH"
   },
   "source": [
    "STAT 154 FINAL PROJECT "
   ]
  },
  {
   "cell_type": "code",
   "execution_count": 1,
   "metadata": {
    "colab": {
     "base_uri": "https://localhost:8080/"
    },
    "executionInfo": {
     "elapsed": 158,
     "status": "ok",
     "timestamp": 1651381227335,
     "user": {
      "displayName": "Eric Li",
      "userId": "09407261587326956210"
     },
     "user_tz": 420
    },
    "id": "ywMTK2ii35IL",
    "outputId": "1969ed1c-5680-4f50-8adb-3ae2e8a7bc05"
   },
   "outputs": [
    {
     "name": "stderr",
     "output_type": "stream",
     "text": [
      "[nltk_data] Downloading package punkt to\n",
      "[nltk_data]     C:\\Users\\94726\\AppData\\Roaming\\nltk_data...\n",
      "[nltk_data]   Package punkt is already up-to-date!\n",
      "[nltk_data] Downloading package stopwords to\n",
      "[nltk_data]     C:\\Users\\94726\\AppData\\Roaming\\nltk_data...\n",
      "[nltk_data]   Package stopwords is already up-to-date!\n",
      "[nltk_data] Downloading package averaged_perceptron_tagger to\n",
      "[nltk_data]     C:\\Users\\94726\\AppData\\Roaming\\nltk_data...\n",
      "[nltk_data]   Package averaged_perceptron_tagger is already up-to-\n",
      "[nltk_data]       date!\n",
      "[nltk_data] Downloading package wordnet to\n",
      "[nltk_data]     C:\\Users\\94726\\AppData\\Roaming\\nltk_data...\n",
      "[nltk_data]   Package wordnet is already up-to-date!\n"
     ]
    }
   ],
   "source": [
    "import numpy as np\n",
    "import pandas as pd\n",
    "import matplotlib.pyplot as plt\n",
    "import seaborn as sns\n",
    "\n",
    "import sys\n",
    "sys.path.append('C:\\\\Users\\\\94726\\\\appdata\\\\local\\\\programs\\\\python\\\\python38-32\\\\lib\\\\site-packages')\n",
    "from imblearn.combine import SMOTETomek\n",
    "\n",
    "from sklearn.model_selection import train_test_split\n",
    "\n",
    "from sklearn.model_selection import GridSearchCV\n",
    "from sklearn.model_selection import RandomizedSearchCV\n",
    "from sklearn.model_selection import cross_val_score\n",
    "from sklearn.tree import DecisionTreeRegressor, DecisionTreeClassifier\n",
    "from sklearn.ensemble import RandomForestClassifier, GradientBoostingClassifier\n",
    "from sklearn.preprocessing import LabelEncoder\n",
    "from sklearn.preprocessing import StandardScaler\n",
    "from sklearn.feature_extraction.text import CountVectorizer\n",
    "# import xgboost as xgb\n",
    "\n",
    "from sklearn.metrics import confusion_matrix\n",
    "from sklearn.metrics import roc_curve, auc\n",
    "from sklearn.metrics import accuracy_score\n",
    "from sklearn.cluster import KMeans\n",
    "from sklearn.svm import SVC\n",
    "\n",
    "from bs4 import BeautifulSoup\n",
    "from string import punctuation\n",
    "import re\n",
    "import nltk\n",
    "nltk.download('punkt')\n",
    "nltk.download('stopwords')\n",
    "nltk.download('averaged_perceptron_tagger')\n",
    "nltk.download('wordnet')\n",
    "from nltk import pos_tag\n",
    "from nltk.corpus import wordnet\n",
    "from nltk.tokenize.toktok import ToktokTokenizer\n",
    "from nltk.stem import LancasterStemmer,WordNetLemmatizer\n",
    "from nltk.corpus import stopwords\n",
    "from nltk.stem import PorterStemmer\n",
    "from nltk.tokenize.treebank import TreebankWordDetokenizer\n",
    "from sklearn.feature_extraction.text import CountVectorizer"
   ]
  },
  {
   "cell_type": "markdown",
   "metadata": {
    "id": "Vj4LtOag35IR"
   },
   "source": [
    "# 1. Data Describtion and EDA"
   ]
  },
  {
   "cell_type": "markdown",
   "metadata": {
    "id": "l8bBsf9l35IU"
   },
   "source": [
    "## 1.1 Data Describtion"
   ]
  },
  {
   "cell_type": "code",
   "execution_count": 2,
   "metadata": {
    "executionInfo": {
     "elapsed": 219,
     "status": "ok",
     "timestamp": 1651379522013,
     "user": {
      "displayName": "Eric Li",
      "userId": "09407261587326956210"
     },
     "user_tz": 420
    },
    "id": "cc-YdiA035IV"
   },
   "outputs": [],
   "source": [
    "test_as_training = pd.read_csv(\"job_verification_data.csv\")\n",
    "training = pd.read_csv(\"job_training_data.csv\")\n",
    "job = pd.concat([training, test_as_training])"
   ]
  },
  {
   "cell_type": "code",
   "execution_count": 3,
   "metadata": {},
   "outputs": [],
   "source": [
    "job = job.reset_index()\n",
    "job = job.iloc[:, 1:]"
   ]
  },
  {
   "cell_type": "code",
   "execution_count": 4,
   "metadata": {
    "colab": {
     "base_uri": "https://localhost:8080/",
     "height": 600
    },
    "executionInfo": {
     "elapsed": 226,
     "status": "ok",
     "timestamp": 1651379522235,
     "user": {
      "displayName": "Eric Li",
      "userId": "09407261587326956210"
     },
     "user_tz": 420
    },
    "id": "Csadd-RK35IW",
    "outputId": "0c3460b6-5926-4a5f-9424-3131473dc456"
   },
   "outputs": [
    {
     "data": {
      "text/html": [
       "<div>\n",
       "<style scoped>\n",
       "    .dataframe tbody tr th:only-of-type {\n",
       "        vertical-align: middle;\n",
       "    }\n",
       "\n",
       "    .dataframe tbody tr th {\n",
       "        vertical-align: top;\n",
       "    }\n",
       "\n",
       "    .dataframe thead th {\n",
       "        text-align: right;\n",
       "    }\n",
       "</style>\n",
       "<table border=\"1\" class=\"dataframe\">\n",
       "  <thead>\n",
       "    <tr style=\"text-align: right;\">\n",
       "      <th></th>\n",
       "      <th>job_id</th>\n",
       "      <th>title</th>\n",
       "      <th>location</th>\n",
       "      <th>department</th>\n",
       "      <th>salary_range</th>\n",
       "      <th>company_profile</th>\n",
       "      <th>description</th>\n",
       "      <th>requirements</th>\n",
       "      <th>benefits</th>\n",
       "      <th>telecommuting</th>\n",
       "      <th>has_company_logo</th>\n",
       "      <th>has_questions</th>\n",
       "      <th>employment_type</th>\n",
       "      <th>required_experience</th>\n",
       "      <th>required_education</th>\n",
       "      <th>industry</th>\n",
       "      <th>function.</th>\n",
       "      <th>fraudulent</th>\n",
       "    </tr>\n",
       "  </thead>\n",
       "  <tbody>\n",
       "    <tr>\n",
       "      <th>0</th>\n",
       "      <td>13454</td>\n",
       "      <td>Field Operations Specialist</td>\n",
       "      <td>US, SD, Yankton</td>\n",
       "      <td>NaN</td>\n",
       "      <td>NaN</td>\n",
       "      <td>Working at FBNAt FBN, we put farmers first. Fo...</td>\n",
       "      <td>Farmers Business Network (“FBN”) is an advance...</td>\n",
       "      <td>Things we look forHonesty, integrity and a pas...</td>\n",
       "      <td>Competitive compensation based on experienceHe...</td>\n",
       "      <td>0</td>\n",
       "      <td>1</td>\n",
       "      <td>0</td>\n",
       "      <td>Full-time</td>\n",
       "      <td>Director</td>\n",
       "      <td>Bachelor's Degree</td>\n",
       "      <td>Farming</td>\n",
       "      <td>Customer Service</td>\n",
       "      <td>0</td>\n",
       "    </tr>\n",
       "    <tr>\n",
       "      <th>1</th>\n",
       "      <td>11411</td>\n",
       "      <td>CM2 5AS Warehousing apprenticeship available u...</td>\n",
       "      <td>GB, , Chelmsford</td>\n",
       "      <td>NaN</td>\n",
       "      <td>NaN</td>\n",
       "      <td>Established on the principles that full time e...</td>\n",
       "      <td>This is fantastic opportunity for someone want...</td>\n",
       "      <td>Government funding is only available for 16-18...</td>\n",
       "      <td>Future Prospects</td>\n",
       "      <td>0</td>\n",
       "      <td>1</td>\n",
       "      <td>1</td>\n",
       "      <td>NaN</td>\n",
       "      <td>Not Applicable</td>\n",
       "      <td>High School or equivalent</td>\n",
       "      <td>NaN</td>\n",
       "      <td>NaN</td>\n",
       "      <td>0</td>\n",
       "    </tr>\n",
       "    <tr>\n",
       "      <th>2</th>\n",
       "      <td>15153</td>\n",
       "      <td>Lead QA Tester</td>\n",
       "      <td>GB, LND, London</td>\n",
       "      <td>Blippbuilder</td>\n",
       "      <td>35000-40000</td>\n",
       "      <td>As augmented reality jobs go, one at Blippar i...</td>\n",
       "      <td>We are looking for an experienced Lead QA test...</td>\n",
       "      <td>This role requires somebody who has both a str...</td>\n",
       "      <td>Our bright, open, centrally located offices ar...</td>\n",
       "      <td>0</td>\n",
       "      <td>1</td>\n",
       "      <td>1</td>\n",
       "      <td>Full-time</td>\n",
       "      <td>Mid-Senior level</td>\n",
       "      <td>Bachelor's Degree</td>\n",
       "      <td>Computer Software</td>\n",
       "      <td>Quality Assurance</td>\n",
       "      <td>0</td>\n",
       "    </tr>\n",
       "    <tr>\n",
       "      <th>3</th>\n",
       "      <td>2814</td>\n",
       "      <td>Basingstoke Fragrance/Beauty Staff Needed</td>\n",
       "      <td>GB, HAM, Basingstoke</td>\n",
       "      <td>NaN</td>\n",
       "      <td>NaN</td>\n",
       "      <td>Established on the principles that full time e...</td>\n",
       "      <td>We are currently recruiting for an exciting Pr...</td>\n",
       "      <td>NaN</td>\n",
       "      <td>NaN</td>\n",
       "      <td>0</td>\n",
       "      <td>1</td>\n",
       "      <td>0</td>\n",
       "      <td>NaN</td>\n",
       "      <td>NaN</td>\n",
       "      <td>NaN</td>\n",
       "      <td>Cosmetics</td>\n",
       "      <td>NaN</td>\n",
       "      <td>0</td>\n",
       "    </tr>\n",
       "    <tr>\n",
       "      <th>4</th>\n",
       "      <td>13996</td>\n",
       "      <td>Swim Instructor</td>\n",
       "      <td>US, NJ, Hawthorne</td>\n",
       "      <td>NaN</td>\n",
       "      <td>NaN</td>\n",
       "      <td>NaN</td>\n",
       "      <td>Looking for a part time swimming instructor to...</td>\n",
       "      <td>Must be Lifeguard and CPR certified</td>\n",
       "      <td>Pay is negotiable</td>\n",
       "      <td>0</td>\n",
       "      <td>0</td>\n",
       "      <td>1</td>\n",
       "      <td>Part-time</td>\n",
       "      <td>NaN</td>\n",
       "      <td>Unspecified</td>\n",
       "      <td>NaN</td>\n",
       "      <td>Other</td>\n",
       "      <td>0</td>\n",
       "    </tr>\n",
       "  </tbody>\n",
       "</table>\n",
       "</div>"
      ],
      "text/plain": [
       "   job_id                                              title  \\\n",
       "0   13454                        Field Operations Specialist   \n",
       "1   11411  CM2 5AS Warehousing apprenticeship available u...   \n",
       "2   15153                                     Lead QA Tester   \n",
       "3    2814          Basingstoke Fragrance/Beauty Staff Needed   \n",
       "4   13996                                   Swim Instructor    \n",
       "\n",
       "               location    department salary_range  \\\n",
       "0       US, SD, Yankton           NaN          NaN   \n",
       "1      GB, , Chelmsford           NaN          NaN   \n",
       "2       GB, LND, London  Blippbuilder  35000-40000   \n",
       "3  GB, HAM, Basingstoke           NaN          NaN   \n",
       "4     US, NJ, Hawthorne           NaN          NaN   \n",
       "\n",
       "                                     company_profile  \\\n",
       "0  Working at FBNAt FBN, we put farmers first. Fo...   \n",
       "1  Established on the principles that full time e...   \n",
       "2  As augmented reality jobs go, one at Blippar i...   \n",
       "3  Established on the principles that full time e...   \n",
       "4                                                NaN   \n",
       "\n",
       "                                         description  \\\n",
       "0  Farmers Business Network (“FBN”) is an advance...   \n",
       "1  This is fantastic opportunity for someone want...   \n",
       "2  We are looking for an experienced Lead QA test...   \n",
       "3  We are currently recruiting for an exciting Pr...   \n",
       "4  Looking for a part time swimming instructor to...   \n",
       "\n",
       "                                        requirements  \\\n",
       "0  Things we look forHonesty, integrity and a pas...   \n",
       "1  Government funding is only available for 16-18...   \n",
       "2  This role requires somebody who has both a str...   \n",
       "3                                                NaN   \n",
       "4                Must be Lifeguard and CPR certified   \n",
       "\n",
       "                                            benefits  telecommuting  \\\n",
       "0  Competitive compensation based on experienceHe...              0   \n",
       "1                                   Future Prospects              0   \n",
       "2  Our bright, open, centrally located offices ar...              0   \n",
       "3                                                NaN              0   \n",
       "4                                  Pay is negotiable              0   \n",
       "\n",
       "   has_company_logo  has_questions employment_type required_experience  \\\n",
       "0                 1              0       Full-time            Director   \n",
       "1                 1              1             NaN      Not Applicable   \n",
       "2                 1              1       Full-time    Mid-Senior level   \n",
       "3                 1              0             NaN                 NaN   \n",
       "4                 0              1       Part-time                 NaN   \n",
       "\n",
       "          required_education           industry          function.  fraudulent  \n",
       "0          Bachelor's Degree            Farming   Customer Service           0  \n",
       "1  High School or equivalent                NaN                NaN           0  \n",
       "2          Bachelor's Degree  Computer Software  Quality Assurance           0  \n",
       "3                        NaN          Cosmetics                NaN           0  \n",
       "4                Unspecified                NaN              Other           0  "
      ]
     },
     "execution_count": 4,
     "metadata": {},
     "output_type": "execute_result"
    }
   ],
   "source": [
    "job.head()"
   ]
  },
  {
   "cell_type": "code",
   "execution_count": 5,
   "metadata": {
    "colab": {
     "base_uri": "https://localhost:8080/"
    },
    "executionInfo": {
     "elapsed": 17,
     "status": "ok",
     "timestamp": 1651379522236,
     "user": {
      "displayName": "Eric Li",
      "userId": "09407261587326956210"
     },
     "user_tz": 420
    },
    "id": "sbB3F98A35IY",
    "outputId": "941984bc-10f6-4455-b73c-147a31feaf9f"
   },
   "outputs": [
    {
     "data": {
      "text/plain": [
       "(6362, 18)"
      ]
     },
     "execution_count": 5,
     "metadata": {},
     "output_type": "execute_result"
    }
   ],
   "source": [
    "job.shape"
   ]
  },
  {
   "cell_type": "code",
   "execution_count": 6,
   "metadata": {
    "colab": {
     "base_uri": "https://localhost:8080/"
    },
    "executionInfo": {
     "elapsed": 13,
     "status": "ok",
     "timestamp": 1651379522237,
     "user": {
      "displayName": "Eric Li",
      "userId": "09407261587326956210"
     },
     "user_tz": 420
    },
    "id": "cHia8QQv35IZ",
    "outputId": "033d707a-2354-4529-879b-1f4f625608fc"
   },
   "outputs": [
    {
     "name": "stdout",
     "output_type": "stream",
     "text": [
      "<class 'pandas.core.frame.DataFrame'>\n",
      "RangeIndex: 6362 entries, 0 to 6361\n",
      "Data columns (total 18 columns):\n",
      " #   Column               Non-Null Count  Dtype \n",
      "---  ------               --------------  ----- \n",
      " 0   job_id               6362 non-null   int64 \n",
      " 1   title                6362 non-null   object\n",
      " 2   location             6248 non-null   object\n",
      " 3   department           2255 non-null   object\n",
      " 4   salary_range         1024 non-null   object\n",
      " 5   company_profile      5150 non-null   object\n",
      " 6   description          6361 non-null   object\n",
      " 7   requirements         5386 non-null   object\n",
      " 8   benefits             3822 non-null   object\n",
      " 9   telecommuting        6362 non-null   int64 \n",
      " 10  has_company_logo     6362 non-null   int64 \n",
      " 11  has_questions        6362 non-null   int64 \n",
      " 12  employment_type      5152 non-null   object\n",
      " 13  required_experience  3870 non-null   object\n",
      " 14  required_education   3456 non-null   object\n",
      " 15  industry             4637 non-null   object\n",
      " 16  function.            4073 non-null   object\n",
      " 17  fraudulent           6362 non-null   int64 \n",
      "dtypes: int64(5), object(13)\n",
      "memory usage: 894.8+ KB\n"
     ]
    }
   ],
   "source": [
    "job.info()"
   ]
  },
  {
   "cell_type": "code",
   "execution_count": 7,
   "metadata": {
    "colab": {
     "base_uri": "https://localhost:8080/"
    },
    "executionInfo": {
     "elapsed": 13,
     "status": "ok",
     "timestamp": 1651379522238,
     "user": {
      "displayName": "Eric Li",
      "userId": "09407261587326956210"
     },
     "user_tz": 420
    },
    "id": "ScGJkWZ035Ib",
    "outputId": "c489e847-7cf7-4ca7-c461-ec1b305819ed"
   },
   "outputs": [
    {
     "data": {
      "text/plain": [
       "0.048569632191134866"
      ]
     },
     "execution_count": 7,
     "metadata": {},
     "output_type": "execute_result"
    }
   ],
   "source": [
    "len(job[job['fraudulent'] == 1])/len(job)"
   ]
  },
  {
   "cell_type": "markdown",
   "metadata": {
    "id": "giy6nmcJ35Ie"
   },
   "source": [
    "* The data we are working with in this project is composed of job posts. There are in total 5362 job posts (i.e., 5362 observations) and 18 features of these posts (i.e., 18 variables), including company location, department of the position, salary range, job description, requirement, etc. Our goal is to build an classifier that distinguishs fraudulent job posts from real job posts with the given information.<br>\n",
    "* There are null values in most of the columns, espectially noticeable in `salary_range`, which only 870 observations are non-null. So in the feature engineering part we are going to drop it directly.<br>\n",
    "* Also notice that our target, `fraudulent`, is inbalanced: only 4.8% of the data are fraudulent. So in the modeling part we use SMOTE technique to balance it."
   ]
  },
  {
   "cell_type": "markdown",
   "metadata": {
    "id": "RfxmLxOJ35Ig"
   },
   "source": [
    "## 1.2 EDA"
   ]
  },
  {
   "cell_type": "markdown",
   "metadata": {
    "id": "djdeyjt635Ih"
   },
   "source": [
    "__Fraudulent__"
   ]
  },
  {
   "cell_type": "code",
   "execution_count": 8,
   "metadata": {
    "colab": {
     "base_uri": "https://localhost:8080/",
     "height": 54
    },
    "executionInfo": {
     "elapsed": 309,
     "status": "ok",
     "timestamp": 1651379522537,
     "user": {
      "displayName": "Eric Li",
      "userId": "09407261587326956210"
     },
     "user_tz": 420
    },
    "id": "39dyLeHS35Ii",
    "outputId": "f9c4068b-7270-4c6d-a3bf-3c7ee4e26109"
   },
   "outputs": [
    {
     "data": {
      "image/png": "[encoded data removed]",
      "text/plain": [
       "<Figure size 432x288 with 1 Axes>"
      ]
     },
     "metadata": {},
     "output_type": "display_data"
    }
   ],
   "source": [
    "_1 = job.copy()\n",
    "_1['text_fraudulent'] = _1['fraudulent'].replace({0: 'non-fraudulent', 1: 'fraudulent'})\n",
    "\n",
    "sns.set_theme(style = 'whitegrid')\n",
    "sns.countplot(data = _1, x = 'text_fraudulent')\n",
    "plt.xlabel('')\n",
    "plt.ylabel('Count')\n",
    "plt.title('Only a Small Number of Posts are Fake', y = 1.05);"
   ]
  },
  {
   "cell_type": "markdown",
   "metadata": {
    "id": "pbwTtI-B35Ik"
   },
   "source": [
    "__Employment Types__"
   ]
  },
  {
   "cell_type": "code",
   "execution_count": 9,
   "metadata": {
    "colab": {
     "base_uri": "https://localhost:8080/",
     "height": 54
    },
    "executionInfo": {
     "elapsed": 253,
     "status": "ok",
     "timestamp": 1651379522784,
     "user": {
      "displayName": "Eric Li",
      "userId": "09407261587326956210"
     },
     "user_tz": 420
    },
    "id": "WnpYJVBB35Il",
    "outputId": "587851aa-b449-484e-f8d2-29926d02aed6"
   },
   "outputs": [
    {
     "data": {
      "image/png": "[encoded data removed]",
      "text/plain": [
       "<Figure size 864x432 with 1 Axes>"
      ]
     },
     "metadata": {},
     "output_type": "display_data"
    }
   ],
   "source": [
    "plt.figure(figsize = (12,6))\n",
    "sns.set_theme(font_scale = 1, palette = 'pastel')\n",
    "sns.countplot(data = job, y = 'employment_type', \n",
    "              hue = 'fraudulent',\n",
    "              order = job['employment_type'].value_counts().index)\n",
    "plt.xlabel('Employment Type')\n",
    "plt.ylabel('Count')\n",
    "plt.title('Employment Types of Job Posts')\n",
    "plt.legend(labels = ['Non-fraudulent', 'Fraudulent'], loc='lower right');"
   ]
  },
  {
   "cell_type": "markdown",
   "metadata": {
    "id": "BUg6MlAp35Il"
   },
   "source": [
    "__Required Education__"
   ]
  },
  {
   "cell_type": "code",
   "execution_count": 10,
   "metadata": {
    "colab": {
     "base_uri": "https://localhost:8080/",
     "height": 54
    },
    "executionInfo": {
     "elapsed": 566,
     "status": "ok",
     "timestamp": 1651379523344,
     "user": {
      "displayName": "Eric Li",
      "userId": "09407261587326956210"
     },
     "user_tz": 420
    },
    "id": "5HArEkQH35In",
    "outputId": "3592471f-898c-4ecf-e54a-1cc60b11ca8b"
   },
   "outputs": [
    {
     "data": {
      "image/png": "[encoded data removed]",
      "text/plain": [
       "<Figure size 864x432 with 1 Axes>"
      ]
     },
     "metadata": {},
     "output_type": "display_data"
    }
   ],
   "source": [
    "plt.figure(figsize = (12,6))\n",
    "sns.set_theme(font_scale = 1, palette = 'pastel')\n",
    "sns.countplot(data = job, y = 'required_education',\n",
    "              hue = 'fraudulent',\n",
    "              order = job['required_education'].value_counts().index)\n",
    "plt.xlabel('Required Education')\n",
    "plt.ylabel('Count')\n",
    "plt.title('Required Education of Job Posts')\n",
    "plt.legend(labels = ['Non-fraudulent', 'Fraudulent'], loc='lower right');"
   ]
  },
  {
   "cell_type": "markdown",
   "metadata": {
    "id": "dQX6p1FD35Ip"
   },
   "source": [
    "__Correlation of numeric features__"
   ]
  },
  {
   "cell_type": "code",
   "execution_count": 11,
   "metadata": {
    "colab": {
     "base_uri": "https://localhost:8080/",
     "height": 54
    },
    "executionInfo": {
     "elapsed": 477,
     "status": "ok",
     "timestamp": 1651379523818,
     "user": {
      "displayName": "Eric Li",
      "userId": "09407261587326956210"
     },
     "user_tz": 420
    },
    "id": "rTlb9Zqr35Iq",
    "outputId": "fb3a0472-d4ac-4abc-cd2d-392f553b589f"
   },
   "outputs": [
    {
     "data": {
      "image/png": "[encoded data removed]",
      "text/plain": [
       "<Figure size 864x432 with 2 Axes>"
      ]
     },
     "metadata": {},
     "output_type": "display_data"
    }
   ],
   "source": [
    "_1 = job.copy()\n",
    "del _1['job_id']\n",
    "plt.figure(figsize = (12,6))\n",
    "sns.heatmap(_1.corr(), cmap=\"YlGnBu\", annot=True);"
   ]
  },
  {
   "cell_type": "markdown",
   "metadata": {
    "id": "Rtnpb41F35Ir"
   },
   "source": [
    "__Fake post location__"
   ]
  },
  {
   "cell_type": "code",
   "execution_count": 12,
   "metadata": {
    "colab": {
     "base_uri": "https://localhost:8080/",
     "height": 54
    },
    "executionInfo": {
     "elapsed": 241,
     "status": "ok",
     "timestamp": 1651379524056,
     "user": {
      "displayName": "Eric Li",
      "userId": "09407261587326956210"
     },
     "user_tz": 420
    },
    "id": "Mwc3ybmj35Ir",
    "outputId": "53eb3b7f-a43d-4518-a4a7-a39a0339e3a7"
   },
   "outputs": [
    {
     "data": {
      "image/png": "[encoded data removed]",
      "text/plain": [
       "<Figure size 864x432 with 1 Axes>"
      ]
     },
     "metadata": {},
     "output_type": "display_data"
    }
   ],
   "source": [
    "_1 = job.copy()\n",
    "# get the country of the job\n",
    "_1['location'] = _1['location'].fillna(' , , ')\n",
    "country = []\n",
    "for l in _1['location'].str.split(','):\n",
    "    country += [l[0]]\n",
    "_1['country'] = country\n",
    "# keep only the fraudulent jobs\n",
    "fake_jobs = _1[_1['fraudulent']==1]\n",
    "\n",
    "# plot the country of the fraudulent jobs\n",
    "plt.figure(figsize = (12,6))\n",
    "sns.set_theme(font_scale = 1, palette = 'pastel')\n",
    "sns.countplot(data = fake_jobs, y = 'country',\n",
    "              order = fake_jobs['country'].value_counts().index)\n",
    "plt.xlabel('Country')\n",
    "plt.ylabel('Count')\n",
    "plt.title('Country of Fake Jobs');"
   ]
  },
  {
   "cell_type": "code",
   "execution_count": 13,
   "metadata": {
    "colab": {
     "base_uri": "https://localhost:8080/",
     "height": 54
    },
    "executionInfo": {
     "elapsed": 1273,
     "status": "ok",
     "timestamp": 1651379525324,
     "user": {
      "displayName": "Eric Li",
      "userId": "09407261587326956210"
     },
     "user_tz": 420
    },
    "id": "gGAxtORw35Is",
    "outputId": "a867c176-d020-450c-e368-a1ca1fa710f6"
   },
   "outputs": [
    {
     "data": {
      "image/png": "[encoded data removed]",
      "text/plain": [
       "<Figure size 432x1296 with 1 Axes>"
      ]
     },
     "metadata": {},
     "output_type": "display_data"
    }
   ],
   "source": [
    "# keep only the real jobs\n",
    "real_jobs = _1[_1['fraudulent']==0]\n",
    "\n",
    "# plot the country of the fraudulent jobs\n",
    "plt.figure(figsize = (6,18))\n",
    "sns.set_theme(font_scale = 1, palette = 'pastel')\n",
    "sns.countplot(data = real_jobs, y = 'country',\n",
    "              order = real_jobs['country'].value_counts().index)\n",
    "plt.xlabel('Country')\n",
    "plt.ylabel('Count')\n",
    "plt.title('Country of Real Jobs');"
   ]
  },
  {
   "cell_type": "markdown",
   "metadata": {
    "id": "YvzS1uup35It"
   },
   "source": [
    "# 2. Feature Creation"
   ]
  },
  {
   "cell_type": "code",
   "execution_count": 14,
   "metadata": {
    "executionInfo": {
     "elapsed": 33,
     "status": "ok",
     "timestamp": 1651379525325,
     "user": {
      "displayName": "Eric Li",
      "userId": "09407261587326956210"
     },
     "user_tz": 420
    },
    "id": "NYx_hahb35It"
   },
   "outputs": [],
   "source": [
    "# delete job _id which is useless\n",
    "# delete salary_range, which has too much Null \n",
    "del job['job_id']\n",
    "del job['salary_range']"
   ]
  },
  {
   "cell_type": "code",
   "execution_count": 15,
   "metadata": {
    "colab": {
     "base_uri": "https://localhost:8080/",
     "height": 315
    },
    "executionInfo": {
     "elapsed": 33,
     "status": "ok",
     "timestamp": 1651379525326,
     "user": {
      "displayName": "Eric Li",
      "userId": "09407261587326956210"
     },
     "user_tz": 420
    },
    "id": "vJltGYd735Iv",
    "outputId": "37177288-92bb-4b4d-9a75-2a27ef1e4a78"
   },
   "outputs": [
    {
     "data": {
      "text/html": [
       "<div>\n",
       "<style scoped>\n",
       "    .dataframe tbody tr th:only-of-type {\n",
       "        vertical-align: middle;\n",
       "    }\n",
       "\n",
       "    .dataframe tbody tr th {\n",
       "        vertical-align: top;\n",
       "    }\n",
       "\n",
       "    .dataframe thead th {\n",
       "        text-align: right;\n",
       "    }\n",
       "</style>\n",
       "<table border=\"1\" class=\"dataframe\">\n",
       "  <thead>\n",
       "    <tr style=\"text-align: right;\">\n",
       "      <th></th>\n",
       "      <th>title</th>\n",
       "      <th>location</th>\n",
       "      <th>department</th>\n",
       "      <th>company_profile</th>\n",
       "      <th>description</th>\n",
       "      <th>requirements</th>\n",
       "      <th>benefits</th>\n",
       "      <th>telecommuting</th>\n",
       "      <th>has_company_logo</th>\n",
       "      <th>has_questions</th>\n",
       "      <th>employment_type</th>\n",
       "      <th>required_experience</th>\n",
       "      <th>required_education</th>\n",
       "      <th>industry</th>\n",
       "      <th>function.</th>\n",
       "      <th>fraudulent</th>\n",
       "    </tr>\n",
       "  </thead>\n",
       "  <tbody>\n",
       "    <tr>\n",
       "      <th>0</th>\n",
       "      <td>Field Operations Specialist</td>\n",
       "      <td>US, SD, Yankton</td>\n",
       "      <td></td>\n",
       "      <td>Working at FBNAt FBN, we put farmers first. Fo...</td>\n",
       "      <td>Farmers Business Network (“FBN”) is an advance...</td>\n",
       "      <td>Things we look forHonesty, integrity and a pas...</td>\n",
       "      <td>Competitive compensation based on experienceHe...</td>\n",
       "      <td>0</td>\n",
       "      <td>1</td>\n",
       "      <td>0</td>\n",
       "      <td>Full-time</td>\n",
       "      <td>Director</td>\n",
       "      <td>Bachelor's Degree</td>\n",
       "      <td>Farming</td>\n",
       "      <td>Customer Service</td>\n",
       "      <td>0</td>\n",
       "    </tr>\n",
       "    <tr>\n",
       "      <th>1</th>\n",
       "      <td>CM2 5AS Warehousing apprenticeship available u...</td>\n",
       "      <td>GB, , Chelmsford</td>\n",
       "      <td></td>\n",
       "      <td>Established on the principles that full time e...</td>\n",
       "      <td>This is fantastic opportunity for someone want...</td>\n",
       "      <td>Government funding is only available for 16-18...</td>\n",
       "      <td>Future Prospects</td>\n",
       "      <td>0</td>\n",
       "      <td>1</td>\n",
       "      <td>1</td>\n",
       "      <td></td>\n",
       "      <td>Not Applicable</td>\n",
       "      <td>High School or equivalent</td>\n",
       "      <td></td>\n",
       "      <td></td>\n",
       "      <td>0</td>\n",
       "    </tr>\n",
       "  </tbody>\n",
       "</table>\n",
       "</div>"
      ],
      "text/plain": [
       "                                               title          location  \\\n",
       "0                        Field Operations Specialist   US, SD, Yankton   \n",
       "1  CM2 5AS Warehousing apprenticeship available u...  GB, , Chelmsford   \n",
       "\n",
       "  department                                    company_profile  \\\n",
       "0             Working at FBNAt FBN, we put farmers first. Fo...   \n",
       "1             Established on the principles that full time e...   \n",
       "\n",
       "                                         description  \\\n",
       "0  Farmers Business Network (“FBN”) is an advance...   \n",
       "1  This is fantastic opportunity for someone want...   \n",
       "\n",
       "                                        requirements  \\\n",
       "0  Things we look forHonesty, integrity and a pas...   \n",
       "1  Government funding is only available for 16-18...   \n",
       "\n",
       "                                            benefits  telecommuting  \\\n",
       "0  Competitive compensation based on experienceHe...              0   \n",
       "1                                   Future Prospects              0   \n",
       "\n",
       "   has_company_logo  has_questions employment_type required_experience  \\\n",
       "0                 1              0       Full-time            Director   \n",
       "1                 1              1                      Not Applicable   \n",
       "\n",
       "          required_education industry         function.  fraudulent  \n",
       "0          Bachelor's Degree  Farming  Customer Service           0  \n",
       "1  High School or equivalent                                      0  "
      ]
     },
     "execution_count": 15,
     "metadata": {},
     "output_type": "execute_result"
    }
   ],
   "source": [
    "# fillna with ''\n",
    "job = job.replace(np.nan, '', regex=True)\n",
    "job.head(2)"
   ]
  },
  {
   "cell_type": "markdown",
   "metadata": {
    "id": "9lrrXPpo35Iv"
   },
   "source": [
    "## 2.1 Non-text columns"
   ]
  },
  {
   "cell_type": "code",
   "execution_count": 16,
   "metadata": {
    "executionInfo": {
     "elapsed": 31,
     "status": "ok",
     "timestamp": 1651379525327,
     "user": {
      "displayName": "Eric Li",
      "userId": "09407261587326956210"
     },
     "user_tz": 420
    },
    "id": "4MBjMjak35Iw"
   },
   "outputs": [],
   "source": [
    "non_text_columns = ['telecommuting', \n",
    "                    'has_company_logo', \n",
    "                    'has_questions', \n",
    "                    'employment_type',\n",
    "                    'required_experience', \n",
    "                    'required_education', \n",
    "                    'industry', \n",
    "                    'function.']\n",
    "# three types:\n",
    "# 1/ `telecommuting`, 'has_company_logo' and 'has_questions' are 0/1, no changes to them\n",
    "# 2/ `employment_type`, 'required_experience' and `required_eduacation` are ordinary, label\n",
    "# 3/ `industry` and `function.` are categorical, OHE"
   ]
  },
  {
   "cell_type": "markdown",
   "metadata": {
    "id": "e8mBcnV135Iw"
   },
   "source": [
    "### a) No changes to 0/1 columns"
   ]
  },
  {
   "cell_type": "markdown",
   "metadata": {
    "id": "2a7pEA9q35Ix"
   },
   "source": [
    "### b) Label the ordinary columns"
   ]
  },
  {
   "cell_type": "code",
   "execution_count": 17,
   "metadata": {
    "colab": {
     "base_uri": "https://localhost:8080/"
    },
    "executionInfo": {
     "elapsed": 32,
     "status": "ok",
     "timestamp": 1651379525328,
     "user": {
      "displayName": "Eric Li",
      "userId": "09407261587326956210"
     },
     "user_tz": 420
    },
    "id": "bJI_giOC35Ix",
    "outputId": "737c35df-37e6-4856-a9d7-0bf76449acd8"
   },
   "outputs": [
    {
     "data": {
      "text/plain": [
       "Full-time    182\n",
       "              79\n",
       "Part-time     26\n",
       "Contract      15\n",
       "Other          7\n",
       "Name: employment_type, dtype: int64"
      ]
     },
     "execution_count": 17,
     "metadata": {},
     "output_type": "execute_result"
    }
   ],
   "source": [
    "job[job['fraudulent'] == 1]['employment_type'].value_counts()"
   ]
  },
  {
   "cell_type": "code",
   "execution_count": 18,
   "metadata": {
    "colab": {
     "base_uri": "https://localhost:8080/"
    },
    "executionInfo": {
     "elapsed": 26,
     "status": "ok",
     "timestamp": 1651379525328,
     "user": {
      "displayName": "Eric Li",
      "userId": "09407261587326956210"
     },
     "user_tz": 420
    },
    "id": "dJGCnukW35Iy",
    "outputId": "d4cfefc7-1a36-40ad-b93a-0fa6d298df53"
   },
   "outputs": [
    {
     "data": {
      "text/plain": [
       "                    157\n",
       "Entry level          57\n",
       "Mid-Senior level     38\n",
       "Not Applicable       30\n",
       "Associate            15\n",
       "Executive             6\n",
       "Director              4\n",
       "Internship            2\n",
       "Name: required_experience, dtype: int64"
      ]
     },
     "execution_count": 18,
     "metadata": {},
     "output_type": "execute_result"
    }
   ],
   "source": [
    "job[job['fraudulent'] == 1]['required_experience'].value_counts()"
   ]
  },
  {
   "cell_type": "code",
   "execution_count": 19,
   "metadata": {
    "colab": {
     "base_uri": "https://localhost:8080/"
    },
    "executionInfo": {
     "elapsed": 22,
     "status": "ok",
     "timestamp": 1651379525329,
     "user": {
      "displayName": "Eric Li",
      "userId": "09407261587326956210"
     },
     "user_tz": 420
    },
    "id": "1E5235PB35Iy",
    "outputId": "986325eb-0c39-4d09-ea4c-c94836a6fc76"
   },
   "outputs": [
    {
     "data": {
      "text/plain": [
       "                                     161\n",
       "High School or equivalent             63\n",
       "Bachelor's Degree                     34\n",
       "Unspecified                           26\n",
       "Master's Degree                        9\n",
       "Certification                          8\n",
       "Some High School Coursework            3\n",
       "Associate Degree                       2\n",
       "Some College Coursework Completed      1\n",
       "Doctorate                              1\n",
       "Professional                           1\n",
       "Name: required_education, dtype: int64"
      ]
     },
     "execution_count": 19,
     "metadata": {},
     "output_type": "execute_result"
    }
   ],
   "source": [
    "job[job['fraudulent'] == 1]['required_education'].value_counts()"
   ]
  },
  {
   "cell_type": "code",
   "execution_count": 20,
   "metadata": {
    "executionInfo": {
     "elapsed": 19,
     "status": "ok",
     "timestamp": 1651379525331,
     "user": {
      "displayName": "Eric Li",
      "userId": "09407261587326956210"
     },
     "user_tz": 420
    },
    "id": "A7T37RW34t4F"
   },
   "outputs": [],
   "source": [
    "# replace the text with numeric labels\n",
    "replacement_dict = {\n",
    "    'employment_type': {'Full-time':0,'':1,'Part-time':2,'Contract':3,'Other':4,'Temporary':5}, \n",
    "    'required_experience': {'':0, 'Not Applicable':1, 'Internship':2, 'Entry level':3, 'Associate':4, 'Mid-Senior level':5, 'Director':6, 'Executive':7},\n",
    "    'required_education': {'':0, 'Unspecified':1, 'Some High School Coursework':2, 'Vocational':3, 'High School or equivalent': 4, 'Vocational - HS Diploma':5, 'Certification':6, 'Some College Coursework Completed':7, 'Associate Degree':8, \"Bachelor's Degree\": 9,  \"Master's Degree\": 10, 'Professional':11, 'Doctorate':12}\n",
    "}\n",
    "job.replace(replacement_dict, inplace=True)\n",
    "# in required_education, all category other than the 5 will be labed 6\n",
    "job['required_education'].replace(to_replace=r'[^0-9]', value=13, regex=True, inplace=True)"
   ]
  },
  {
   "cell_type": "code",
   "execution_count": 21,
   "metadata": {
    "colab": {
     "base_uri": "https://localhost:8080/",
     "height": 315
    },
    "executionInfo": {
     "elapsed": 20,
     "status": "ok",
     "timestamp": 1651379525332,
     "user": {
      "displayName": "Eric Li",
      "userId": "09407261587326956210"
     },
     "user_tz": 420
    },
    "id": "uFXOR_3j35I0",
    "outputId": "e0cc8d3c-a376-4c4d-9e06-16497a1e4e21"
   },
   "outputs": [
    {
     "data": {
      "text/html": [
       "<div>\n",
       "<style scoped>\n",
       "    .dataframe tbody tr th:only-of-type {\n",
       "        vertical-align: middle;\n",
       "    }\n",
       "\n",
       "    .dataframe tbody tr th {\n",
       "        vertical-align: top;\n",
       "    }\n",
       "\n",
       "    .dataframe thead th {\n",
       "        text-align: right;\n",
       "    }\n",
       "</style>\n",
       "<table border=\"1\" class=\"dataframe\">\n",
       "  <thead>\n",
       "    <tr style=\"text-align: right;\">\n",
       "      <th></th>\n",
       "      <th>title</th>\n",
       "      <th>location</th>\n",
       "      <th>department</th>\n",
       "      <th>company_profile</th>\n",
       "      <th>description</th>\n",
       "      <th>requirements</th>\n",
       "      <th>benefits</th>\n",
       "      <th>telecommuting</th>\n",
       "      <th>has_company_logo</th>\n",
       "      <th>has_questions</th>\n",
       "      <th>employment_type</th>\n",
       "      <th>required_experience</th>\n",
       "      <th>required_education</th>\n",
       "      <th>industry</th>\n",
       "      <th>function.</th>\n",
       "      <th>fraudulent</th>\n",
       "    </tr>\n",
       "  </thead>\n",
       "  <tbody>\n",
       "    <tr>\n",
       "      <th>0</th>\n",
       "      <td>Field Operations Specialist</td>\n",
       "      <td>US, SD, Yankton</td>\n",
       "      <td></td>\n",
       "      <td>Working at FBNAt FBN, we put farmers first. Fo...</td>\n",
       "      <td>Farmers Business Network (“FBN”) is an advance...</td>\n",
       "      <td>Things we look forHonesty, integrity and a pas...</td>\n",
       "      <td>Competitive compensation based on experienceHe...</td>\n",
       "      <td>0</td>\n",
       "      <td>1</td>\n",
       "      <td>0</td>\n",
       "      <td>0</td>\n",
       "      <td>6</td>\n",
       "      <td>9</td>\n",
       "      <td>Farming</td>\n",
       "      <td>Customer Service</td>\n",
       "      <td>0</td>\n",
       "    </tr>\n",
       "    <tr>\n",
       "      <th>1</th>\n",
       "      <td>CM2 5AS Warehousing apprenticeship available u...</td>\n",
       "      <td>GB, , Chelmsford</td>\n",
       "      <td></td>\n",
       "      <td>Established on the principles that full time e...</td>\n",
       "      <td>This is fantastic opportunity for someone want...</td>\n",
       "      <td>Government funding is only available for 16-18...</td>\n",
       "      <td>Future Prospects</td>\n",
       "      <td>0</td>\n",
       "      <td>1</td>\n",
       "      <td>1</td>\n",
       "      <td>1</td>\n",
       "      <td>1</td>\n",
       "      <td>4</td>\n",
       "      <td></td>\n",
       "      <td></td>\n",
       "      <td>0</td>\n",
       "    </tr>\n",
       "    <tr>\n",
       "      <th>2</th>\n",
       "      <td>Lead QA Tester</td>\n",
       "      <td>GB, LND, London</td>\n",
       "      <td>Blippbuilder</td>\n",
       "      <td>As augmented reality jobs go, one at Blippar i...</td>\n",
       "      <td>We are looking for an experienced Lead QA test...</td>\n",
       "      <td>This role requires somebody who has both a str...</td>\n",
       "      <td>Our bright, open, centrally located offices ar...</td>\n",
       "      <td>0</td>\n",
       "      <td>1</td>\n",
       "      <td>1</td>\n",
       "      <td>0</td>\n",
       "      <td>5</td>\n",
       "      <td>9</td>\n",
       "      <td>Computer Software</td>\n",
       "      <td>Quality Assurance</td>\n",
       "      <td>0</td>\n",
       "    </tr>\n",
       "    <tr>\n",
       "      <th>3</th>\n",
       "      <td>Basingstoke Fragrance/Beauty Staff Needed</td>\n",
       "      <td>GB, HAM, Basingstoke</td>\n",
       "      <td></td>\n",
       "      <td>Established on the principles that full time e...</td>\n",
       "      <td>We are currently recruiting for an exciting Pr...</td>\n",
       "      <td></td>\n",
       "      <td></td>\n",
       "      <td>0</td>\n",
       "      <td>1</td>\n",
       "      <td>0</td>\n",
       "      <td>1</td>\n",
       "      <td>0</td>\n",
       "      <td>0</td>\n",
       "      <td>Cosmetics</td>\n",
       "      <td></td>\n",
       "      <td>0</td>\n",
       "    </tr>\n",
       "    <tr>\n",
       "      <th>4</th>\n",
       "      <td>Swim Instructor</td>\n",
       "      <td>US, NJ, Hawthorne</td>\n",
       "      <td></td>\n",
       "      <td></td>\n",
       "      <td>Looking for a part time swimming instructor to...</td>\n",
       "      <td>Must be Lifeguard and CPR certified</td>\n",
       "      <td>Pay is negotiable</td>\n",
       "      <td>0</td>\n",
       "      <td>0</td>\n",
       "      <td>1</td>\n",
       "      <td>2</td>\n",
       "      <td>0</td>\n",
       "      <td>1</td>\n",
       "      <td></td>\n",
       "      <td>Other</td>\n",
       "      <td>0</td>\n",
       "    </tr>\n",
       "  </tbody>\n",
       "</table>\n",
       "</div>"
      ],
      "text/plain": [
       "                                               title              location  \\\n",
       "0                        Field Operations Specialist       US, SD, Yankton   \n",
       "1  CM2 5AS Warehousing apprenticeship available u...      GB, , Chelmsford   \n",
       "2                                     Lead QA Tester       GB, LND, London   \n",
       "3          Basingstoke Fragrance/Beauty Staff Needed  GB, HAM, Basingstoke   \n",
       "4                                   Swim Instructor      US, NJ, Hawthorne   \n",
       "\n",
       "     department                                    company_profile  \\\n",
       "0                Working at FBNAt FBN, we put farmers first. Fo...   \n",
       "1                Established on the principles that full time e...   \n",
       "2  Blippbuilder  As augmented reality jobs go, one at Blippar i...   \n",
       "3                Established on the principles that full time e...   \n",
       "4                                                                    \n",
       "\n",
       "                                         description  \\\n",
       "0  Farmers Business Network (“FBN”) is an advance...   \n",
       "1  This is fantastic opportunity for someone want...   \n",
       "2  We are looking for an experienced Lead QA test...   \n",
       "3  We are currently recruiting for an exciting Pr...   \n",
       "4  Looking for a part time swimming instructor to...   \n",
       "\n",
       "                                        requirements  \\\n",
       "0  Things we look forHonesty, integrity and a pas...   \n",
       "1  Government funding is only available for 16-18...   \n",
       "2  This role requires somebody who has both a str...   \n",
       "3                                                      \n",
       "4                Must be Lifeguard and CPR certified   \n",
       "\n",
       "                                            benefits  telecommuting  \\\n",
       "0  Competitive compensation based on experienceHe...              0   \n",
       "1                                   Future Prospects              0   \n",
       "2  Our bright, open, centrally located offices ar...              0   \n",
       "3                                                                 0   \n",
       "4                                  Pay is negotiable              0   \n",
       "\n",
       "   has_company_logo  has_questions  employment_type  required_experience  \\\n",
       "0                 1              0                0                    6   \n",
       "1                 1              1                1                    1   \n",
       "2                 1              1                0                    5   \n",
       "3                 1              0                1                    0   \n",
       "4                 0              1                2                    0   \n",
       "\n",
       "   required_education           industry          function.  fraudulent  \n",
       "0                   9            Farming   Customer Service           0  \n",
       "1                   4                                                 0  \n",
       "2                   9  Computer Software  Quality Assurance           0  \n",
       "3                   0          Cosmetics                              0  \n",
       "4                   1                                 Other           0  "
      ]
     },
     "execution_count": 21,
     "metadata": {},
     "output_type": "execute_result"
    }
   ],
   "source": [
    "job.head()"
   ]
  },
  {
   "cell_type": "markdown",
   "metadata": {
    "id": "6Hyo7lVT35I0"
   },
   "source": [
    "### c) OHE industry and function"
   ]
  },
  {
   "cell_type": "code",
   "execution_count": 22,
   "metadata": {
    "executionInfo": {
     "elapsed": 3181,
     "status": "ok",
     "timestamp": 1651379528495,
     "user": {
      "displayName": "Eric Li",
      "userId": "09407261587326956210"
     },
     "user_tz": 420
    },
    "id": "MG7GVKQS35I1"
   },
   "outputs": [],
   "source": [
    "# industry\n",
    "\n",
    "# get the most common industries\n",
    "industry = job['industry'].value_counts()\n",
    "common_industries = industry.index[industry >= 15].to_list() # 50 in total\n",
    "\n",
    "# OHE them\n",
    "other = np.zeros(len(job)) \n",
    "for industry in common_industries:\n",
    "    dummy = np.zeros(len(job))\n",
    "    for i in range(len(job)):\n",
    "        if job['industry'][i] not in common_industries:\n",
    "            other[i] = 1\n",
    "        elif job['industry'][i] == industry:\n",
    "            dummy[i] = 1    \n",
    "    job[industry + '_indus'] = dummy\n",
    "# other than the common industries\n",
    "job['Others_indus'] = other\n",
    "\n",
    "# rename the missing column\n",
    "job = job.rename({'_indus':'missing_indus'}, axis=1)"
   ]
  },
  {
   "cell_type": "code",
   "execution_count": 23,
   "metadata": {
    "executionInfo": {
     "elapsed": 11,
     "status": "ok",
     "timestamp": 1651379528496,
     "user": {
      "displayName": "Eric Li",
      "userId": "09407261587326956210"
     },
     "user_tz": 420
    },
    "id": "hO9Lyra535I1"
   },
   "outputs": [],
   "source": [
    "# #check\n",
    "# _1 = job.copy()\n",
    "# _1['indus_sum'] = sum(_1[col] for col in _1.iloc[:, -51:].columns)\n",
    "# sum(_1['indus_sum'] == 1) == len(job)"
   ]
  },
  {
   "cell_type": "code",
   "execution_count": 24,
   "metadata": {
    "executionInfo": {
     "elapsed": 2419,
     "status": "ok",
     "timestamp": 1651379530906,
     "user": {
      "displayName": "Eric Li",
      "userId": "09407261587326956210"
     },
     "user_tz": 420
    },
    "id": "RWFdcF6d35I2"
   },
   "outputs": [],
   "source": [
    "# function\n",
    "\n",
    "# all the functions as the common functions\n",
    "function = job['function.'].value_counts()\n",
    "common_functions = function.index.to_list() # 38 in total\n",
    "\n",
    "# OHE them \n",
    "other = np.zeros(len(job)) \n",
    "for function in common_functions:\n",
    "    dummy = np.zeros(len(job))\n",
    "    for i in range(len(job)):\n",
    "        if job['function.'][i] not in common_functions:\n",
    "            other[i] = 1\n",
    "        elif job['function.'][i] == function:\n",
    "            dummy[i] = 1    \n",
    "    job[function+'_func'] = dummy\n",
    "\n",
    "# other than the common industries\n",
    "job['Others_func'] = other\n",
    "# rename the missing column\n",
    "job = job.rename({'_func':'missing_func'}, axis=1)"
   ]
  },
  {
   "cell_type": "code",
   "execution_count": 25,
   "metadata": {
    "executionInfo": {
     "elapsed": 17,
     "status": "ok",
     "timestamp": 1651379530911,
     "user": {
      "displayName": "Eric Li",
      "userId": "09407261587326956210"
     },
     "user_tz": 420
    },
    "id": "exxH9DSn35I3"
   },
   "outputs": [],
   "source": [
    "# check\n",
    "#_1 = job.copy()\n",
    "#_1['func_sum'] = sum(_1[col] for col in _1.iloc[:, -39:].columns)\n",
    "#sum(_1['func_sum'] == 1) == len(job)"
   ]
  },
  {
   "cell_type": "code",
   "execution_count": 26,
   "metadata": {
    "executionInfo": {
     "elapsed": 17,
     "status": "ok",
     "timestamp": 1651379530912,
     "user": {
      "displayName": "Eric Li",
      "userId": "09407261587326956210"
     },
     "user_tz": 420
    },
    "id": "p_JVARmC35I3"
   },
   "outputs": [],
   "source": [
    "job.drop([\"industry\"], axis=1, inplace=True)\n",
    "job.drop([\"function.\"], axis=1, inplace=True)"
   ]
  },
  {
   "cell_type": "markdown",
   "metadata": {
    "id": "EmnqTw8z35I4"
   },
   "source": [
    "## 2.2 Text Column"
   ]
  },
  {
   "cell_type": "code",
   "execution_count": 27,
   "metadata": {
    "executionInfo": {
     "elapsed": 16,
     "status": "ok",
     "timestamp": 1651379530912,
     "user": {
      "displayName": "Eric Li",
      "userId": "09407261587326956210"
     },
     "user_tz": 420
    },
    "id": "6lVJaAYP35I5"
   },
   "outputs": [],
   "source": [
    "text_columns = ['location',\n",
    "                'title', \n",
    "                'department',\n",
    "                'company_profile',\n",
    "                'description',\n",
    "                'requirements',\n",
    "                'benefits']"
   ]
  },
  {
   "cell_type": "markdown",
   "metadata": {
    "id": "FkbliCaa35I5"
   },
   "source": [
    "### a) Length of text"
   ]
  },
  {
   "cell_type": "code",
   "execution_count": 28,
   "metadata": {
    "colab": {
     "base_uri": "https://localhost:8080/",
     "height": 344
    },
    "executionInfo": {
     "elapsed": 16,
     "status": "ok",
     "timestamp": 1651379530913,
     "user": {
      "displayName": "Eric Li",
      "userId": "09407261587326956210"
     },
     "user_tz": 420
    },
    "id": "Q0eo_G9s35I6",
    "outputId": "668dd3ad-5e84-4dd8-c036-7ac839083d85"
   },
   "outputs": [
    {
     "data": {
      "text/html": [
       "<div>\n",
       "<style scoped>\n",
       "    .dataframe tbody tr th:only-of-type {\n",
       "        vertical-align: middle;\n",
       "    }\n",
       "\n",
       "    .dataframe tbody tr th {\n",
       "        vertical-align: top;\n",
       "    }\n",
       "\n",
       "    .dataframe thead th {\n",
       "        text-align: right;\n",
       "    }\n",
       "</style>\n",
       "<table border=\"1\" class=\"dataframe\">\n",
       "  <thead>\n",
       "    <tr style=\"text-align: right;\">\n",
       "      <th></th>\n",
       "      <th>title</th>\n",
       "      <th>location</th>\n",
       "      <th>department</th>\n",
       "      <th>company_profile</th>\n",
       "      <th>description</th>\n",
       "      <th>requirements</th>\n",
       "      <th>benefits</th>\n",
       "      <th>telecommuting</th>\n",
       "      <th>has_company_logo</th>\n",
       "      <th>has_questions</th>\n",
       "      <th>...</th>\n",
       "      <th>Science_func</th>\n",
       "      <th>Purchasing_func</th>\n",
       "      <th>Others_func</th>\n",
       "      <th>location_len</th>\n",
       "      <th>title_len</th>\n",
       "      <th>department_len</th>\n",
       "      <th>company_profile_len</th>\n",
       "      <th>description_len</th>\n",
       "      <th>requirements_len</th>\n",
       "      <th>benefits_len</th>\n",
       "    </tr>\n",
       "  </thead>\n",
       "  <tbody>\n",
       "    <tr>\n",
       "      <th>0</th>\n",
       "      <td>Field Operations Specialist</td>\n",
       "      <td>US, SD, Yankton</td>\n",
       "      <td></td>\n",
       "      <td>Working at FBNAt FBN, we put farmers first. Fo...</td>\n",
       "      <td>Farmers Business Network (“FBN”) is an advance...</td>\n",
       "      <td>Things we look forHonesty, integrity and a pas...</td>\n",
       "      <td>Competitive compensation based on experienceHe...</td>\n",
       "      <td>0</td>\n",
       "      <td>1</td>\n",
       "      <td>0</td>\n",
       "      <td>...</td>\n",
       "      <td>0.0</td>\n",
       "      <td>0.0</td>\n",
       "      <td>0.0</td>\n",
       "      <td>15</td>\n",
       "      <td>27</td>\n",
       "      <td>0</td>\n",
       "      <td>2559</td>\n",
       "      <td>871</td>\n",
       "      <td>1383</td>\n",
       "      <td>100</td>\n",
       "    </tr>\n",
       "    <tr>\n",
       "      <th>1</th>\n",
       "      <td>CM2 5AS Warehousing apprenticeship available u...</td>\n",
       "      <td>GB, , Chelmsford</td>\n",
       "      <td></td>\n",
       "      <td>Established on the principles that full time e...</td>\n",
       "      <td>This is fantastic opportunity for someone want...</td>\n",
       "      <td>Government funding is only available for 16-18...</td>\n",
       "      <td>Future Prospects</td>\n",
       "      <td>0</td>\n",
       "      <td>1</td>\n",
       "      <td>1</td>\n",
       "      <td>...</td>\n",
       "      <td>0.0</td>\n",
       "      <td>0.0</td>\n",
       "      <td>0.0</td>\n",
       "      <td>16</td>\n",
       "      <td>76</td>\n",
       "      <td>0</td>\n",
       "      <td>829</td>\n",
       "      <td>391</td>\n",
       "      <td>88</td>\n",
       "      <td>16</td>\n",
       "    </tr>\n",
       "  </tbody>\n",
       "</table>\n",
       "<p>2 rows × 116 columns</p>\n",
       "</div>"
      ],
      "text/plain": [
       "                                               title          location  \\\n",
       "0                        Field Operations Specialist   US, SD, Yankton   \n",
       "1  CM2 5AS Warehousing apprenticeship available u...  GB, , Chelmsford   \n",
       "\n",
       "  department                                    company_profile  \\\n",
       "0             Working at FBNAt FBN, we put farmers first. Fo...   \n",
       "1             Established on the principles that full time e...   \n",
       "\n",
       "                                         description  \\\n",
       "0  Farmers Business Network (“FBN”) is an advance...   \n",
       "1  This is fantastic opportunity for someone want...   \n",
       "\n",
       "                                        requirements  \\\n",
       "0  Things we look forHonesty, integrity and a pas...   \n",
       "1  Government funding is only available for 16-18...   \n",
       "\n",
       "                                            benefits  telecommuting  \\\n",
       "0  Competitive compensation based on experienceHe...              0   \n",
       "1                                   Future Prospects              0   \n",
       "\n",
       "   has_company_logo  has_questions  ...  Science_func  Purchasing_func  \\\n",
       "0                 1              0  ...           0.0              0.0   \n",
       "1                 1              1  ...           0.0              0.0   \n",
       "\n",
       "   Others_func  location_len  title_len  department_len  company_profile_len  \\\n",
       "0          0.0            15         27               0                 2559   \n",
       "1          0.0            16         76               0                  829   \n",
       "\n",
       "   description_len  requirements_len  benefits_len  \n",
       "0              871              1383           100  \n",
       "1              391                88            16  \n",
       "\n",
       "[2 rows x 116 columns]"
      ]
     },
     "execution_count": 28,
     "metadata": {},
     "output_type": "execute_result"
    }
   ],
   "source": [
    "# Add columns representing the lenght of the text columns \n",
    "for column in text_columns:\n",
    "    job[column+'_len'] = job[column].str.len()\n",
    "\n",
    "job.head(2)"
   ]
  },
  {
   "cell_type": "markdown",
   "metadata": {
    "id": "3wEMN2iq35I6"
   },
   "source": [
    "### b) All text into one column"
   ]
  },
  {
   "cell_type": "code",
   "execution_count": 29,
   "metadata": {
    "executionInfo": {
     "elapsed": 221,
     "status": "ok",
     "timestamp": 1651379531121,
     "user": {
      "displayName": "Eric Li",
      "userId": "09407261587326956210"
     },
     "user_tz": 420
    },
    "id": "Am-XPSar35I7"
   },
   "outputs": [],
   "source": [
    "# add a text column and drop the redudent columns\n",
    "job['text'] = job[text_columns].apply(lambda x: ' '.join(x), axis = 1)\n",
    "job.drop(text_columns, axis=1, inplace=True)"
   ]
  },
  {
   "cell_type": "code",
   "execution_count": 30,
   "metadata": {
    "executionInfo": {
     "elapsed": 5,
     "status": "ok",
     "timestamp": 1651379531122,
     "user": {
      "displayName": "Eric Li",
      "userId": "09407261587326956210"
     },
     "user_tz": 420
    },
    "id": "BXNmaIVR35I7"
   },
   "outputs": [],
   "source": [
    "# punctuations\n",
    "def remove_punct(text):\n",
    "    table = str.maketrans('','', punctuation)\n",
    "    return text.translate(table) \n",
    "# text process\n",
    "def text_preprocess(text):\n",
    "    text = text.replace('\\\\r', ' ')\n",
    "    text = text.replace('\\\\\"', ' ')\n",
    "    text = text.replace('\\\\n', ' ')\n",
    "    text = re.sub('[^A-Za-z0-9]+', ' ', str(text))\n",
    "    # stop words\n",
    "    stop = set(stopwords.words('english'))\n",
    "    text = ' '.join(e for e in text.split() if e.lower() not in stop)\n",
    "    # remove punctuation\n",
    "    text = remove_punct(text)\n",
    "    text = text.lower()\n",
    "    # porter stemmer\n",
    "    ps = PorterStemmer()\n",
    "    text = ps.stem(text)\n",
    "    return text"
   ]
  },
  {
   "cell_type": "code",
   "execution_count": 31,
   "metadata": {
    "colab": {
     "base_uri": "https://localhost:8080/",
     "height": 362
    },
    "executionInfo": {
     "elapsed": 5129,
     "status": "ok",
     "timestamp": 1651379536247,
     "user": {
      "displayName": "Eric Li",
      "userId": "09407261587326956210"
     },
     "user_tz": 420
    },
    "id": "S2qUxwd435I8",
    "outputId": "a9890320-af5c-4ff3-e119-89f00ee861a6"
   },
   "outputs": [
    {
     "data": {
      "text/html": [
       "<div>\n",
       "<style scoped>\n",
       "    .dataframe tbody tr th:only-of-type {\n",
       "        vertical-align: middle;\n",
       "    }\n",
       "\n",
       "    .dataframe tbody tr th {\n",
       "        vertical-align: top;\n",
       "    }\n",
       "\n",
       "    .dataframe thead th {\n",
       "        text-align: right;\n",
       "    }\n",
       "</style>\n",
       "<table border=\"1\" class=\"dataframe\">\n",
       "  <thead>\n",
       "    <tr style=\"text-align: right;\">\n",
       "      <th></th>\n",
       "      <th>telecommuting</th>\n",
       "      <th>has_company_logo</th>\n",
       "      <th>has_questions</th>\n",
       "      <th>employment_type</th>\n",
       "      <th>required_experience</th>\n",
       "      <th>required_education</th>\n",
       "      <th>fraudulent</th>\n",
       "      <th>missing_indus</th>\n",
       "      <th>Information Technology and Services_indus</th>\n",
       "      <th>Computer Software_indus</th>\n",
       "      <th>...</th>\n",
       "      <th>Purchasing_func</th>\n",
       "      <th>Others_func</th>\n",
       "      <th>location_len</th>\n",
       "      <th>title_len</th>\n",
       "      <th>department_len</th>\n",
       "      <th>company_profile_len</th>\n",
       "      <th>description_len</th>\n",
       "      <th>requirements_len</th>\n",
       "      <th>benefits_len</th>\n",
       "      <th>text</th>\n",
       "    </tr>\n",
       "  </thead>\n",
       "  <tbody>\n",
       "    <tr>\n",
       "      <th>0</th>\n",
       "      <td>0</td>\n",
       "      <td>1</td>\n",
       "      <td>0</td>\n",
       "      <td>0</td>\n",
       "      <td>6</td>\n",
       "      <td>9</td>\n",
       "      <td>0</td>\n",
       "      <td>0.0</td>\n",
       "      <td>0.0</td>\n",
       "      <td>0.0</td>\n",
       "      <td>...</td>\n",
       "      <td>0.0</td>\n",
       "      <td>0.0</td>\n",
       "      <td>15</td>\n",
       "      <td>27</td>\n",
       "      <td>0</td>\n",
       "      <td>2559</td>\n",
       "      <td>871</td>\n",
       "      <td>1383</td>\n",
       "      <td>100</td>\n",
       "      <td>us sd yankton field operations specialist work...</td>\n",
       "    </tr>\n",
       "    <tr>\n",
       "      <th>1</th>\n",
       "      <td>0</td>\n",
       "      <td>1</td>\n",
       "      <td>1</td>\n",
       "      <td>1</td>\n",
       "      <td>1</td>\n",
       "      <td>4</td>\n",
       "      <td>0</td>\n",
       "      <td>1.0</td>\n",
       "      <td>0.0</td>\n",
       "      <td>0.0</td>\n",
       "      <td>...</td>\n",
       "      <td>0.0</td>\n",
       "      <td>0.0</td>\n",
       "      <td>16</td>\n",
       "      <td>76</td>\n",
       "      <td>0</td>\n",
       "      <td>829</td>\n",
       "      <td>391</td>\n",
       "      <td>88</td>\n",
       "      <td>16</td>\n",
       "      <td>gb chelmsford cm2 5as warehousing apprenticesh...</td>\n",
       "    </tr>\n",
       "  </tbody>\n",
       "</table>\n",
       "<p>2 rows × 110 columns</p>\n",
       "</div>"
      ],
      "text/plain": [
       "   telecommuting  has_company_logo  has_questions  employment_type  \\\n",
       "0              0                 1              0                0   \n",
       "1              0                 1              1                1   \n",
       "\n",
       "   required_experience  required_education  fraudulent  missing_indus  \\\n",
       "0                    6                   9           0            0.0   \n",
       "1                    1                   4           0            1.0   \n",
       "\n",
       "   Information Technology and Services_indus  Computer Software_indus  ...  \\\n",
       "0                                        0.0                      0.0  ...   \n",
       "1                                        0.0                      0.0  ...   \n",
       "\n",
       "   Purchasing_func  Others_func  location_len  title_len  department_len  \\\n",
       "0              0.0          0.0            15         27               0   \n",
       "1              0.0          0.0            16         76               0   \n",
       "\n",
       "   company_profile_len  description_len  requirements_len  benefits_len  \\\n",
       "0                 2559              871              1383           100   \n",
       "1                  829              391                88            16   \n",
       "\n",
       "                                                text  \n",
       "0  us sd yankton field operations specialist work...  \n",
       "1  gb chelmsford cm2 5as warehousing apprenticesh...  \n",
       "\n",
       "[2 rows x 110 columns]"
      ]
     },
     "execution_count": 31,
     "metadata": {},
     "output_type": "execute_result"
    }
   ],
   "source": [
    "job['text'] = job['text'].apply(text_preprocess)\n",
    "job.head(2)"
   ]
  },
  {
   "cell_type": "code",
   "execution_count": 32,
   "metadata": {
    "executionInfo": {
     "elapsed": 5,
     "status": "ok",
     "timestamp": 1651379536247,
     "user": {
      "displayName": "Eric Li",
      "userId": "09407261587326956210"
     },
     "user_tz": 420
    },
    "id": "wV11disT35I9"
   },
   "outputs": [],
   "source": [
    "# for power feature creation\n",
    "job2 = job.copy()\n",
    "job3 = job.copy()"
   ]
  },
  {
   "cell_type": "markdown",
   "metadata": {
    "id": "dKm0gOeU35I-"
   },
   "source": [
    "### c) Vectorize the text"
   ]
  },
  {
   "cell_type": "code",
   "execution_count": 33,
   "metadata": {
    "executionInfo": {
     "elapsed": 125762,
     "status": "ok",
     "timestamp": 1651379662005,
     "user": {
      "displayName": "Eric Li",
      "userId": "09407261587326956210"
     },
     "user_tz": 420
    },
    "id": "vH-HqZS535I_",
    "tags": []
   },
   "outputs": [],
   "source": [
    "# Making a dictionary of the words and their vector representation\n",
    "\n",
    "embeddings_index = {}\n",
    "f = open('glove.42B.300d.txt','r', encoding='UTF-8')\n",
    "for line in f:\n",
    "    values = line.split(' ')\n",
    "    # The first entry is the word\n",
    "    word = values[0] \n",
    "    # vectors embedding the word\n",
    "    coefs = np.asarray(values[1:], dtype='float32') \n",
    "    embeddings_index[word] = coefs\n",
    "f.close()"
   ]
  },
  {
   "cell_type": "code",
   "execution_count": 34,
   "metadata": {
    "executionInfo": {
     "elapsed": 14,
     "status": "ok",
     "timestamp": 1651379662007,
     "user": {
      "displayName": "Eric Li",
      "userId": "09407261587326956210"
     },
     "user_tz": 420
    },
    "id": "GUCz3KVS35I_"
   },
   "outputs": [],
   "source": [
    "# convert words in the text column into vectors\n",
    "# functions\n",
    "\n",
    "def convert_sen_to_vec(sentence):\n",
    "    # each word has the vector length of 300\n",
    "    vector = np.zeros(300) \n",
    "    # num of words with a valid vector in the sentence\n",
    "    num_words =0; \n",
    "    for word in sentence.split():\n",
    "        if word in embeddings_index.keys():\n",
    "            vector += embeddings_index[word]\n",
    "            num_words += 1\n",
    "    if num_words != 0:\n",
    "        # the average of vectors in each sentence\n",
    "        vector /= num_words\n",
    "    return vector"
   ]
  },
  {
   "cell_type": "code",
   "execution_count": null,
   "metadata": {
    "executionInfo": {
     "elapsed": 4964,
     "status": "ok",
     "timestamp": 1651379666960,
     "user": {
      "displayName": "Eric Li",
      "userId": "09407261587326956210"
     },
     "user_tz": 420
    },
    "id": "bCWu3lQ435JA"
   },
   "outputs": [],
   "source": [
    "# convert words in the text column into vectors\n",
    "# convertion\n",
    "\n",
    "converted_text = []\n",
    "\n",
    "for i in range(0, job.shape[0]):\n",
    "    converted_text.append(convert_sen_to_vec(job['text'][i]))\n",
    "\n",
    "text_vectors = pd.DataFrame(converted_text)"
   ]
  },
  {
   "cell_type": "markdown",
   "metadata": {
    "id": "wchQ8YAI35JB"
   },
   "source": [
    "## 2.3 Results untill this step"
   ]
  },
  {
   "cell_type": "code",
   "execution_count": null,
   "metadata": {
    "executionInfo": {
     "elapsed": 42,
     "status": "ok",
     "timestamp": 1651379666970,
     "user": {
      "displayName": "Eric Li",
      "userId": "09407261587326956210"
     },
     "user_tz": 420
    },
    "id": "h9G60dH735JC"
   },
   "outputs": [],
   "source": [
    "job.drop([\"text\"], axis=1, inplace=True)\n",
    "job.drop([\"fraudulent\"], axis=1, inplace=True)\n",
    "words_vectors = pd.concat([text_vectors, job], axis=1)"
   ]
  },
  {
   "cell_type": "code",
   "execution_count": null,
   "metadata": {
    "colab": {
     "base_uri": "https://localhost:8080/",
     "height": 300
    },
    "executionInfo": {
     "elapsed": 41,
     "status": "ok",
     "timestamp": 1651379666972,
     "user": {
      "displayName": "Eric Li",
      "userId": "09407261587326956210"
     },
     "user_tz": 420
    },
    "id": "cyIO8IT835JD",
    "outputId": "f561e0d1-8db9-4981-e736-00ed72d7f6b4"
   },
   "outputs": [],
   "source": [
    "words_vectors.head()"
   ]
  },
  {
   "cell_type": "code",
   "execution_count": null,
   "metadata": {
    "colab": {
     "base_uri": "https://localhost:8080/"
    },
    "executionInfo": {
     "elapsed": 38,
     "status": "ok",
     "timestamp": 1651379666973,
     "user": {
      "displayName": "Eric Li",
      "userId": "09407261587326956210"
     },
     "user_tz": 420
    },
    "id": "UUBiicMh35JD",
    "outputId": "46f481fa-0803-4968-cf1c-b77fc1342665"
   },
   "outputs": [],
   "source": [
    "words_vectors.shape"
   ]
  },
  {
   "cell_type": "markdown",
   "metadata": {
    "id": "8pQ7A7Pt35JE"
   },
   "source": [
    "Features in `words_vectors`:<br>\n",
    "1. Vector representation of text (a total of 300)\n",
    "2. Unchanged 1/0 numeric columns (a total of 3)\n",
    "3. Labeled ordinary numeric columns (a total of 3)\n",
    "4. OHE industry and functions (51 + 39)\n",
    "5. Length of texts (7)"
   ]
  },
  {
   "cell_type": "markdown",
   "metadata": {
    "id": "0c6Vm8na35JE"
   },
   "source": [
    "## 2.4 Most Common Words"
   ]
  },
  {
   "cell_type": "code",
   "execution_count": null,
   "metadata": {
    "colab": {
     "base_uri": "https://localhost:8080/",
     "height": 362
    },
    "executionInfo": {
     "elapsed": 34,
     "status": "ok",
     "timestamp": 1651379666975,
     "user": {
      "displayName": "Eric Li",
      "userId": "09407261587326956210"
     },
     "user_tz": 420
    },
    "id": "-urbq1TI35JF",
    "outputId": "01cee1d3-7973-43b8-c0e3-c42aaf8b3e49"
   },
   "outputs": [],
   "source": [
    "job2.head(2)"
   ]
  },
  {
   "cell_type": "code",
   "execution_count": null,
   "metadata": {
    "executionInfo": {
     "elapsed": 214,
     "status": "ok",
     "timestamp": 1651379667158,
     "user": {
      "displayName": "Eric Li",
      "userId": "09407261587326956210"
     },
     "user_tz": 420
    },
    "id": "r22Xvk-l35JF"
   },
   "outputs": [],
   "source": [
    "real_job = job2[job2['fraudulent'] == 0].reset_index()\n",
    "fake_job = job2[job2['fraudulent'] == 1].reset_index()"
   ]
  },
  {
   "cell_type": "code",
   "execution_count": null,
   "metadata": {
    "executionInfo": {
     "elapsed": 702,
     "status": "ok",
     "timestamp": 1651379667857,
     "user": {
      "displayName": "Eric Li",
      "userId": "09407261587326956210"
     },
     "user_tz": 420
    },
    "id": "8mr1n6xq35JG"
   },
   "outputs": [],
   "source": [
    "real_word_counts = {}\n",
    "for i in range(len(real_job)):\n",
    "    for word in real_job['text'][i].split(\" \"):\n",
    "        if word in real_word_counts.keys():\n",
    "            real_word_counts[word] += 1\n",
    "        else: \n",
    "            real_word_counts[word] = 1\n",
    "# sort\n",
    "real_word_counts = dict(sorted(real_word_counts.items(), key=lambda item: item[1], reverse=True))\n",
    "# first 80\n",
    "real_first_100 = dict(list(real_word_counts.items())[:100])"
   ]
  },
  {
   "cell_type": "code",
   "execution_count": null,
   "metadata": {
    "colab": {
     "base_uri": "https://localhost:8080/",
     "height": 678
    },
    "executionInfo": {
     "elapsed": 1199,
     "status": "ok",
     "timestamp": 1651379669052,
     "user": {
      "displayName": "Eric Li",
      "userId": "09407261587326956210"
     },
     "user_tz": 420
    },
    "id": "GivFAKaj35JG",
    "outputId": "5760d8d4-88c7-4483-f070-e122847a150c"
   },
   "outputs": [],
   "source": [
    "plt.figure(figsize = (30, 10))\n",
    "plt.bar(real_first_100.keys(), real_first_100.values(), color='g')\n",
    "plt.xticks(rotation = 90)\n",
    "plt.title(\"Most Common Words in Real Job Posts\");"
   ]
  },
  {
   "cell_type": "code",
   "execution_count": null,
   "metadata": {
    "executionInfo": {
     "elapsed": 233,
     "status": "ok",
     "timestamp": 1651379669281,
     "user": {
      "displayName": "Eric Li",
      "userId": "09407261587326956210"
     },
     "user_tz": 420
    },
    "id": "v1-HHiZ_35JH"
   },
   "outputs": [],
   "source": [
    "fake_word_counts = {}\n",
    "for i in range(len(fake_job)):\n",
    "    for word in fake_job['text'][i].split(\" \"):\n",
    "        if word in fake_word_counts.keys():\n",
    "            fake_word_counts[word] += 1\n",
    "        else: \n",
    "            fake_word_counts[word] = 1\n",
    "# sort\n",
    "fake_word_counts = dict(sorted(fake_word_counts.items(), key=lambda item: item[1], reverse=True))\n",
    "# first 100\n",
    "fake_first_100 = dict(list(fake_word_counts.items())[:100])"
   ]
  },
  {
   "cell_type": "code",
   "execution_count": null,
   "metadata": {
    "colab": {
     "base_uri": "https://localhost:8080/",
     "height": 679
    },
    "executionInfo": {
     "elapsed": 1195,
     "status": "ok",
     "timestamp": 1651379670473,
     "user": {
      "displayName": "Eric Li",
      "userId": "09407261587326956210"
     },
     "user_tz": 420
    },
    "id": "mQn35YQj35JH",
    "outputId": "fb78ad4f-bfdf-4f43-9ebf-ce860cc1542d"
   },
   "outputs": [],
   "source": [
    "plt.figure(figsize = (20, 10))\n",
    "plt.bar(fake_first_100.keys(), fake_first_100.values(), color='g')\n",
    "plt.xticks(rotation = 90)\n",
    "plt.title(\"Most Common Words in Fake Job Posts\");"
   ]
  },
  {
   "cell_type": "code",
   "execution_count": null,
   "metadata": {
    "executionInfo": {
     "elapsed": 13,
     "status": "ok",
     "timestamp": 1651379670475,
     "user": {
      "displayName": "Eric Li",
      "userId": "09407261587326956210"
     },
     "user_tz": 420
    },
    "id": "HXHK2GVF35JI"
   },
   "outputs": [],
   "source": [
    "# many words appears a lot in both real and fake posts\n",
    "# so the words which only appear in one kind are the real important ones\n",
    "real_words = set(real_first_100.keys())\n",
    "fake_words = set(fake_first_100.keys())\n",
    "distinct_real = real_words.difference(fake_words)\n",
    "distinct_fake = fake_words.difference(real_words)"
   ]
  },
  {
   "cell_type": "code",
   "execution_count": null,
   "metadata": {
    "executionInfo": {
     "elapsed": 1472,
     "status": "ok",
     "timestamp": 1651379671937,
     "user": {
      "displayName": "Eric Li",
      "userId": "09407261587326956210"
     },
     "user_tz": 420
    },
    "id": "WCXuUlTd35JI"
   },
   "outputs": [],
   "source": [
    "# add word counts\n",
    "\n",
    "# real\n",
    "for word in distinct_real:\n",
    "    count = np.zeros(len(job2))\n",
    "    for i in range(len(job2)):\n",
    "        count[i] = job2['text'][i].count(word)\n",
    "    job2[word+'_real'] = count\n",
    "job2['sum_real'] = sum(job2[col] for col in job2.iloc[:, -len(distinct_real):].columns)\n",
    "\n",
    "# fake\n",
    "for word in distinct_fake:\n",
    "    count = np.zeros(len(job2))\n",
    "    for i in range(len(job2)):\n",
    "        count[i] = job2['text'][i].count(word)\n",
    "    job2[word+'_fake'] = count\n",
    "job2['sum_fake'] = sum(job2[col] for col in job2.iloc[:, -len(distinct_fake):].columns)"
   ]
  },
  {
   "cell_type": "code",
   "execution_count": null,
   "metadata": {
    "colab": {
     "base_uri": "https://localhost:8080/",
     "height": 300
    },
    "executionInfo": {
     "elapsed": 24,
     "status": "ok",
     "timestamp": 1651379671946,
     "user": {
      "displayName": "Eric Li",
      "userId": "09407261587326956210"
     },
     "user_tz": 420
    },
    "id": "y_3hN3C935JJ",
    "outputId": "e20b21c1-2578-47d2-a2e7-13f68459bb67"
   },
   "outputs": [],
   "source": [
    "words_count = job2.iloc[:, -int(len(distinct_real) + len(distinct_fake) +2):]\n",
    "words_count.head()"
   ]
  },
  {
   "cell_type": "markdown",
   "metadata": {
    "id": "cume4P8R35JJ"
   },
   "source": [
    "Features in `words_count`:\n",
    "1. Occurance of words that most commonly appear __only__ in real job posts and a sum of them;\n",
    "2. Occurance of words that most commonly appear __only__ in fake job posts and a sum of them;"
   ]
  },
  {
   "cell_type": "markdown",
   "metadata": {
    "id": "7ffQDKL-35JK"
   },
   "source": [
    "## 2.5 PCA"
   ]
  },
  {
   "cell_type": "markdown",
   "metadata": {
    "id": "YPAcLbhg35JK"
   },
   "source": [
    "Recall that we already have two feature matrices: `words_vectors` and `words_count`. Combine them to create a new feature matrix to conduct PCA."
   ]
  },
  {
   "cell_type": "code",
   "execution_count": null,
   "metadata": {
    "colab": {
     "base_uri": "https://localhost:8080/",
     "height": 300
    },
    "executionInfo": {
     "elapsed": 21,
     "status": "ok",
     "timestamp": 1651379671947,
     "user": {
      "displayName": "Eric Li",
      "userId": "09407261587326956210"
     },
     "user_tz": 420
    },
    "id": "kHOBVQRR35JK",
    "outputId": "6f6c81f4-af05-4f93-955a-d3a3809ad5b3"
   },
   "outputs": [],
   "source": [
    "great_features = pd.concat([words_vectors, words_count], axis=1)\n",
    "great_features.head()"
   ]
  },
  {
   "cell_type": "code",
   "execution_count": null,
   "metadata": {},
   "outputs": [],
   "source": [
    "# Standardize\n",
    "means = []\n",
    "sds = []\n",
    "for col in great_features.columns:\n",
    "    col_mean = great_features[col].mean()\n",
    "    col_sd = great_features[col].std()\n",
    "    means.append(col_mean)\n",
    "    sds.append(col_sd)\n",
    "    if col_sd == 0:\n",
    "        pass\n",
    "    else:\n",
    "        great_features[[col]] = (great_features[[col]] - col_mean)/col_sd    \n",
    "    "
   ]
  },
  {
   "cell_type": "code",
   "execution_count": null,
   "metadata": {
    "colab": {
     "base_uri": "https://localhost:8080/",
     "height": 54
    },
    "executionInfo": {
     "elapsed": 819,
     "status": "ok",
     "timestamp": 1651379674614,
     "user": {
      "displayName": "Eric Li",
      "userId": "09407261587326956210"
     },
     "user_tz": 420
    },
    "id": "acaGwZ2m35JM",
    "outputId": "d2f82fb9-f6ba-4f84-978f-5ed798cd3578"
   },
   "outputs": [],
   "source": [
    "# Singular Value Decomposition\n",
    "u, s, vt = np.linalg.svd(great_features, full_matrices = False)\n",
    "\n",
    "# Calculate the Principle Components\n",
    "pcs = (great_features @ vt.T)\n",
    "\n",
    "total_var = np.sum(s ** 2) / great_features.shape[0]\n",
    "# scree plot\n",
    "sns.lineplot(x = range(1, 7), y = (s[:6] ** 2 / great_features.shape[0]) / total_var)\n",
    "plt.xticks(range(1, 7))\n",
    "plt.xlabel('Principal Component')\n",
    "plt.ylabel('Variance')\n",
    "plt.title('Scree Plot of Principal Components')\n",
    "plt.show();\n",
    "# use the first four PC"
   ]
  },
  {
   "cell_type": "code",
   "execution_count": null,
   "metadata": {
    "executionInfo": {
     "elapsed": 8,
     "status": "ok",
     "timestamp": 1651379674614,
     "user": {
      "displayName": "Eric Li",
      "userId": "09407261587326956210"
     },
     "user_tz": 420
    },
    "id": "9Qqfb3b_35JO"
   },
   "outputs": [],
   "source": [
    "# update feature matrix with the first two pcs\n",
    "PC = pcs.iloc[:, :4].rename(columns={0:'PC1', 1:'PC2', 2:'PC3', 3:'PC4'})\n",
    "all_features = pd.concat([great_features, PC], axis=1)"
   ]
  },
  {
   "cell_type": "code",
   "execution_count": null,
   "metadata": {
    "colab": {
     "base_uri": "https://localhost:8080/",
     "height": 54
    },
    "executionInfo": {
     "elapsed": 1372,
     "status": "ok",
     "timestamp": 1651379675980,
     "user": {
      "displayName": "Eric Li",
      "userId": "09407261587326956210"
     },
     "user_tz": 420
    },
    "id": "7_7wwVLl35JP",
    "outputId": "e1d78fb2-f713-40ea-9a3f-44d651400303"
   },
   "outputs": [],
   "source": [
    "# add back the target column\n",
    "new_job = pd.concat([all_features, job2['fraudulent']], axis=1)\n",
    "plt.figure(figsize = (20, 10))\n",
    "sns.set_theme(font_scale = 2)\n",
    "sns.scatterplot(data = new_job, x = 'PC1', y = 'PC2', hue = 'fraudulent')\n",
    "plt.xlabel('PC1')\n",
    "plt.ylabel('PC2')\n",
    "plt.title('PC1 versus PC2');"
   ]
  },
  {
   "cell_type": "markdown",
   "metadata": {
    "id": "LINfLyia35JQ"
   },
   "source": [
    "## 2.6 Final Result"
   ]
  },
  {
   "cell_type": "markdown",
   "metadata": {
    "id": "8iQ4oNwQ35JQ"
   },
   "source": [
    "__We have completed the feature creation!__ The final feature matrix is stored in `all_features`, with three parts: unsupervised feature creation, supervised feature creation and PCA. "
   ]
  },
  {
   "cell_type": "code",
   "execution_count": null,
   "metadata": {
    "colab": {
     "base_uri": "https://localhost:8080/",
     "height": 300
    },
    "executionInfo": {
     "elapsed": 25,
     "status": "ok",
     "timestamp": 1651379675982,
     "user": {
      "displayName": "Eric Li",
      "userId": "09407261587326956210"
     },
     "user_tz": 420
    },
    "id": "6wrmrKHm35JQ",
    "outputId": "b11d4c2a-5079-4cfc-fcdd-ae1353aa21f7"
   },
   "outputs": [],
   "source": [
    "all_features.head()"
   ]
  },
  {
   "cell_type": "markdown",
   "metadata": {
    "id": "LkpSLoww35JR",
    "tags": []
   },
   "source": [
    "# 3. Unsupervised Feature Filtering"
   ]
  },
  {
   "cell_type": "code",
   "execution_count": null,
   "metadata": {},
   "outputs": [],
   "source": [
    "num_feats = all_features.shape[1]\n",
    "correlations = {}\n",
    "for i in range(num_feats-1):\n",
    "    for j in range(i+1, num_feats -1):\n",
    "        corr = all_features.iloc[:, i].corr(all_features.iloc[:, j])\n",
    "        correlations[str(all_features.columns[i])+\":\"+str(all_features.columns[j])] = corr"
   ]
  },
  {
   "cell_type": "code",
   "execution_count": null,
   "metadata": {},
   "outputs": [],
   "source": [
    "high_corr_features = []\n",
    "for key, item in correlations.items():\n",
    "    if abs(item) > 0.5:\n",
    "        col = key.split(\":\")[1]\n",
    "        if col not in high_corr_features:\n",
    "            high_corr_features.append(col)\n",
    "            \n",
    "deleted_features = []\n",
    "for i in high_corr_features:\n",
    "    if i.isnumeric():\n",
    "        deleted_features.append(int(i))\n",
    "    else:\n",
    "        deleted_features.append(i)"
   ]
  },
  {
   "cell_type": "code",
   "execution_count": null,
   "metadata": {},
   "outputs": [],
   "source": [
    "all_features = all_features.drop(deleted_features, axis=1)\n",
    "all_features.shape"
   ]
  },
  {
   "cell_type": "markdown",
   "metadata": {},
   "source": [
    "# Aside: pipline"
   ]
  },
  {
   "cell_type": "code",
   "execution_count": null,
   "metadata": {},
   "outputs": [],
   "source": [
    "def pipeline(job_post):\n",
    "    # delete job _id which is useless\n",
    "    # delete salary_range, which has too much Null \n",
    "    del job_post['job_id']\n",
    "    del job_post['salary_range']\n",
    "    # fillna with ''\n",
    "    job_post = job_post.replace(np.nan, '', regex=True)\n",
    "    \n",
    "    # Part1: Non-text-columns process\n",
    "    non_text_columns = ['telecommuting', \n",
    "                    'has_company_logo', \n",
    "                    'has_questions', \n",
    "                    'employment_type',\n",
    "                    'required_experience', \n",
    "                    'required_education', \n",
    "                    'industry', \n",
    "                    'function.']\n",
    "    # 1.1 label employment, experience and education\n",
    "    # replace the text with numeric labels\n",
    "    replacement_dict = {\n",
    "        'employment_type': {'Full-time':0,'':1,'Part-time':2,'Contract':3,'Other':4,'Temporary':5}, \n",
    "        'required_experience': {'':0, 'Not Applicable':1, 'Internship':2, 'Entry level':3, 'Associate':4, \n",
    "                                'Mid-Senior level':5, 'Director':6, 'Executive':7},\n",
    "        'required_education': {'':0, 'Unspecified':1, 'Some High School Coursework':2, 'Vocational':3, \n",
    "                               'High School or equivalent': 4, 'Vocational - HS Diploma':5, 'Certification':6, \n",
    "                               'Some College Coursework Completed':7, 'Associate Degree':8, \"Bachelor's Degree\": 9, \n",
    "                               \"Master's Degree\": 10, 'Professional':11, 'Doctorate':12}\n",
    "    }\n",
    "    job_post.replace(replacement_dict, inplace=True)\n",
    "    # in required_education, all category other than the 0-12 will be labed 6\n",
    "    job_post['required_education'].replace(to_replace=r'[^0-9]', value=13, regex=True, inplace=True)\n",
    "    \n",
    "    # 1.2 OHE industry and functions\n",
    "    # 1.2.1 industry\n",
    "    other = np.zeros(len(job_post)) \n",
    "    for industry in common_industries:\n",
    "        dummy = np.zeros(len(job_post))\n",
    "        for i in range(len(job_post)):\n",
    "            if job_post['industry'][i] not in common_industries:\n",
    "                other[i] = 1\n",
    "            elif job_post['industry'][i] == industry:\n",
    "                dummy[i] = 1    \n",
    "        job_post[industry + '_indus'] = dummy\n",
    "    # other than the common industries\n",
    "    job_post['Others_indus'] = other\n",
    "    # rename the missing column\n",
    "    job_post = job_post.rename({'_indus':'missing_indus'}, axis=1)\n",
    "    # 1.2.2 function\n",
    "    other = np.zeros(len(job_post)) \n",
    "    for function in common_functions:\n",
    "        dummy = np.zeros(len(job_post))\n",
    "        for i in range(len(job_post)):\n",
    "            if job_post['function.'][i] not in common_functions:\n",
    "                other[i] = 1\n",
    "            elif job_post['function.'][i] == function:\n",
    "                dummy[i] = 1    \n",
    "        job_post[function+'_func'] = dummy\n",
    "    # other than the common industries\n",
    "    job_post['Others_func'] = other\n",
    "    # rename the missing column\n",
    "    job_post = job_post.rename({'_func':'missing_func'}, axis=1)\n",
    "    \n",
    "    job_post.drop([\"industry\"], axis=1, inplace=True)\n",
    "    job_post.drop([\"function.\"], axis=1, inplace=True)\n",
    "    \n",
    "    # Part2: Text-columns processing\n",
    "    text_columns = ['location',\n",
    "                'title', \n",
    "                'department',\n",
    "                'company_profile',\n",
    "                'description',\n",
    "                'requirements',\n",
    "                'benefits']\n",
    "    # 2.1 Length of texts\n",
    "    # Add columns representing the lenght of the text columns \n",
    "    for column in text_columns:\n",
    "        job_post[column+'_len'] = job_post[column].str.len()\n",
    "    # 2.2 all in one textcolumn\n",
    "    # add a text column and drop the redudent columns\n",
    "    job_post['text'] = job_post[text_columns].apply(lambda x: ' '.join(x), axis = 1)\n",
    "    job_post.drop(text_columns, axis=1, inplace=True)\n",
    "    job_post['text'] = job_post['text'].apply(text_preprocess)\n",
    "    \n",
    "    job2 = job_post.copy()\n",
    "    \n",
    "    # 2.3 Vectorize\n",
    "    converted_text = []\n",
    "    for i in range(0, job_post.shape[0]):\n",
    "        converted_text.append(convert_sen_to_vec(job_post['text'][i]))\n",
    "    text_vectors = pd.DataFrame(converted_text)\n",
    "    job_post.drop([\"text\"], axis=1, inplace=True)\n",
    "    job_post.drop([\"fraudulent\"], axis=1, inplace=True)\n",
    "    \n",
    "    #-----------------------------------------------------------#\n",
    "    created_feature = pd.concat([text_vectors, job_post], axis=1)\n",
    "    #-----------------------------------------------------------#\n",
    "    \n",
    "    \n",
    "    \n",
    "    # Part3: ADD WORD COUNTS\n",
    "    # real\n",
    "    for word in distinct_real:\n",
    "        count = np.zeros(len(job2))\n",
    "        for i in range(len(job2)):\n",
    "            count[i] = job2['text'][i].count(word)\n",
    "        job2[word+'_real'] = count\n",
    "    job2['sum_real'] = sum(job2[col] for col in job2.iloc[:, -len(distinct_real):].columns)\n",
    "    # fake\n",
    "    for word in distinct_fake:\n",
    "        count = np.zeros(len(job2))\n",
    "        for i in range(len(job2)):\n",
    "            count[i] = job2['text'][i].count(word)\n",
    "        job2[word+'_fake'] = count\n",
    "    job2['sum_fake'] = sum(job2[col] for col in job2.iloc[:, -len(distinct_fake):].columns)\n",
    "    \n",
    "    #------------------------------------------------------------------------------------#\n",
    "    word_counts_feature = job2.iloc[:, -int(len(distinct_real) + len(distinct_fake) +2):]\n",
    "    #------------------------------------------------------------------------------------#\n",
    "    \n",
    "    \n",
    "    # Part 4: PCA\n",
    "    great_features = pd.concat([created_feature, word_counts_feature], axis=1)\n",
    "    # Standardize\n",
    "    for i in range(len(means)):\n",
    "        if sds[i] == 0:\n",
    "            pass\n",
    "        else:\n",
    "            great_features.iloc[:, i] = (great_features.iloc[:, i] - means[i])/sds[i]        \n",
    "    # Singular Value Decomposition\n",
    "    # u, s, vt = np.linalg.svd(great_features, full_matrices = False)\n",
    "    # Calculate the Principle Components\n",
    "    pcs = (great_features @ vt.T)\n",
    "    # update feature matrix with the first two pcs\n",
    "    PC = pcs.iloc[:, :4].rename(columns={0:'PC1', 1:'PC2', 2:'PC3', 3:'PC4'})\n",
    "    \n",
    "    #---------------------------------------------------#\n",
    "    all_features = pd.concat([great_features, PC], axis=1)\n",
    "    #---------------------------------------------------#\n",
    "    \n",
    "    #--------------------------------------------------------#\n",
    "    all_features = all_features.drop(deleted_features, axis=1)\n",
    "    #--------------------------------------------------------#\n",
    "    \n",
    "    return all_features"
   ]
  },
  {
   "cell_type": "code",
   "execution_count": null,
   "metadata": {},
   "outputs": [],
   "source": [
    "# use traing+test1 as training, test2 as test\n",
    "\n",
    "# test_as_training = pd.read_csv(\"job_verification_data.csv\")\n",
    "# training = pd.read_csv(\"job_training_data.csv\")\n",
    "# job = pd.concat([training, test_as_training])\n",
    "\n",
    "test_job = pd.read_csv(\"job_verification_data_2.csv\")\n",
    "y_test = test_job.iloc[:,-1]\n",
    "X_test = pipeline(test_job)"
   ]
  },
  {
   "cell_type": "markdown",
   "metadata": {},
   "source": [
    "# 4. Model"
   ]
  },
  {
   "cell_type": "markdown",
   "metadata": {
    "id": "wL4mpSL035JV"
   },
   "source": [
    "## 4.1 Balance the `fraudulent`"
   ]
  },
  {
   "cell_type": "code",
   "execution_count": null,
   "metadata": {},
   "outputs": [],
   "source": [
    "X_train = all_features\n",
    "y_train = job2['fraudulent']"
   ]
  },
  {
   "cell_type": "code",
   "execution_count": null,
   "metadata": {
    "jp-MarkdownHeadingCollapsed": true,
    "tags": []
   },
   "outputs": [],
   "source": [
    "# Use SMOTE to balance data\n",
    "smk  = SMOTETomek(random_state=56)\n",
    "X_res,y_res = smk.fit_resample(X_train,y_train)"
   ]
  },
  {
   "cell_type": "markdown",
   "metadata": {},
   "source": [
    "## 4.2 Random Forest"
   ]
  },
  {
   "cell_type": "markdown",
   "metadata": {},
   "source": [
    "__Cross Validation to tune the parameters__"
   ]
  },
  {
   "cell_type": "code",
   "execution_count": null,
   "metadata": {
    "id": "d7DddrOeB-Cx"
   },
   "outputs": [],
   "source": [
    "# grid_values = {'n_estimators': [103, 105, 107], \n",
    "#                'max_depth': [34, 36],  \n",
    "#                'class_weight':[{1:x} for x in range(7, 8)]} \n",
    "            \n",
    "# rf = RandomForestClassifier(random_state=0)\n",
    "# rf_cv = GridSearchCV(rf, param_grid=grid_values, scoring='accuracy', cv=10, verbose=0, n_jobs=-1)\n",
    "# rf_cv.fit(X_res, Y_res);"
   ]
  },
  {
   "cell_type": "code",
   "execution_count": null,
   "metadata": {
    "colab": {
     "base_uri": "https://localhost:8080/",
     "height": 549
    },
    "executionInfo": {
     "elapsed": 4079,
     "status": "ok",
     "timestamp": 1651385852828,
     "user": {
      "displayName": "Eric Li",
      "userId": "09407261587326956210"
     },
     "user_tz": 420
    },
    "id": "y_ojxrRZOgzJ",
    "outputId": "be384f71-a951-4149-98e3-18295b2b96a5"
   },
   "outputs": [],
   "source": [
    "# accuarcy = rf_cv.cv_results_['mean_test_score'] \n",
    "# best_n_estimators = rf_cv.best_params_['n_estimators']\n",
    "# best_max_depth = rf_cv.best_params_['max_depth']\n",
    "# best_class_weight = rf_cv.best_params_['class_weight']\n",
    "\n",
    "# print(\"Accuarcy:\", accuarcy) \n",
    "# print(\"Best n_estimators:\", best_n_estimators)\n",
    "# print(\"Best max_depth:\", best_max_depth)\n",
    "# print(\"Best class_weight:\", best_class_weight)"
   ]
  },
  {
   "cell_type": "markdown",
   "metadata": {
    "colab": {
     "base_uri": "https://localhost:8080/",
     "height": 549
    },
    "executionInfo": {
     "elapsed": 4079,
     "status": "ok",
     "timestamp": 1651385852828,
     "user": {
      "displayName": "Eric Li",
      "userId": "09407261587326956210"
     },
     "user_tz": 420
    },
    "id": "y_ojxrRZOgzJ",
    "outputId": "be384f71-a951-4149-98e3-18295b2b96a5"
   },
   "source": [
    "__Fit model__"
   ]
  },
  {
   "cell_type": "code",
   "execution_count": null,
   "metadata": {
    "colab": {
     "base_uri": "https://localhost:8080/",
     "height": 549
    },
    "executionInfo": {
     "elapsed": 4079,
     "status": "ok",
     "timestamp": 1651385852828,
     "user": {
      "displayName": "Eric Li",
      "userId": "09407261587326956210"
     },
     "user_tz": 420
    },
    "id": "y_ojxrRZOgzJ",
    "outputId": "be384f71-a951-4149-98e3-18295b2b96a5"
   },
   "outputs": [],
   "source": [
    "# RF = RandomForestClassifier(random_state=56, \n",
    "#                                 n_estimators=105, \n",
    "#                                 max_depth =36,\n",
    "#                                 class_weight={1:8}).fit(X_res, y_res)"
   ]
  },
  {
   "cell_type": "markdown",
   "metadata": {},
   "source": [
    "__Model Evaluation__"
   ]
  },
  {
   "cell_type": "code",
   "execution_count": null,
   "metadata": {},
   "outputs": [],
   "source": [
    "# y_pred = RF.predict(X_test)\n",
    "\n",
    "# tn, fp, fn, tp = confusion_matrix(y_test, y_pred).ravel()\n",
    "# # Accuracy\n",
    "# Acc = (tn+tp)/(tn+fp+fn+tp)\n",
    "# # True Positive Rate: successfully predicted real job/ total real job\n",
    "# TPR = tp/(tp+fn)\n",
    "# # False Positive Rate: predicted fake, but actuall real / total real job\n",
    "# FPR = fp/(tn+fp)\n",
    "# # False Negetive Rate: predicted real, but actual fake / total fake job\n",
    "# FNR = fn/(tp+fn)\n",
    "# # True Negetive Rate: succesfully predicted fake job/ total fake job\n",
    "# TNR = tn/(tn+fp)\n",
    "\n",
    "# TPR, TNR, Acc"
   ]
  },
  {
   "cell_type": "code",
   "execution_count": null,
   "metadata": {},
   "outputs": [],
   "source": [
    "# # Metric table \n",
    "# data = {\n",
    "#     'Predicted Fake Job': [tp, fp],\n",
    "#     'Predicted Real Job': [fn, tn]\n",
    "# }\n",
    "# pd.DataFrame(data = data, index = ['Actual Fake Job', 'Actual Real Job']).transpose()"
   ]
  },
  {
   "cell_type": "code",
   "execution_count": null,
   "metadata": {},
   "outputs": [],
   "source": [
    "# # ROC curve\n",
    "# fpr, tpr, _ = roc_curve(y_test, RF.predict_proba(X_test)[::,1])\n",
    "# roc_auc = auc(fpr, tpr)\n",
    "\n",
    "# plt.figure(figsize=(8, 6))\n",
    "# plt.title('ROC Curve', fontsize=18)\n",
    "# plt.xlabel('FPR', fontsize=16)\n",
    "# plt.ylabel('TPR', fontsize=16)\n",
    "# plt.xlim([-0.0, 1.00])\n",
    "# plt.ylim([-0.0, 1.00])\n",
    "# plt.plot(fpr, tpr, lw=3, label='RF (area = {:0.2f})'.format(roc_auc))\n",
    "# plt.plot([0, 1], [0, 1], color='navy', lw=3, linestyle='--')\n",
    "# plt.legend(loc='lower right', fontsize=14)\n",
    "# plt.show()"
   ]
  },
  {
   "cell_type": "markdown",
   "metadata": {},
   "source": [
    "## 4.3 Support Vector Machine Classification"
   ]
  },
  {
   "cell_type": "markdown",
   "metadata": {},
   "source": [
    "__Cross Validation__"
   ]
  },
  {
   "cell_type": "code",
   "execution_count": null,
   "metadata": {},
   "outputs": [],
   "source": [
    "# # cross-validation\n",
    "\n",
    "# # already checked that kernel RBF (radial) is far superior to poly, linear.\n",
    "# # class_weight = 'balanced' == {1:1} (computed from formula in documentation)\n",
    "# # best gamma is consistently 'auto'. \n",
    "# grid_values = {'C': [3.55, 3.60, 3.65], 'class_weight':['balanced', {1:2}, {1:3},{1:4}]} \n",
    "\n",
    "            \n",
    "# svm = SVC(random_state=0, kernel = 'rbf', gamma = 'auto')\n",
    "# svm_cv = GridSearchCV(svm, param_grid=grid_values, scoring='accuracy', cv=10, verbose=0, n_jobs=-1)\n",
    "# svm_cv.fit(X_res, y_res)"
   ]
  },
  {
   "cell_type": "code",
   "execution_count": 85,
   "metadata": {},
   "outputs": [
    {
     "name": "stdout",
     "output_type": "stream",
     "text": [
      "Best accuarcy: 0.9986783001549162\n",
      "Best C: 3.55\n",
      "Best class_weight setting: {1: 2}\n"
     ]
    }
   ],
   "source": [
    "accuarcy = svm_cv.cv_results_['mean_test_score'] \n",
    "ccp = svm_cv.cv_results_['param_C'].data\n",
    "best_C = svm_cv.best_params_['C']\n",
    "best_class_weight = svm_cv.best_params_['class_weight']\n",
    "\n",
    "print(\"Accuarcy:\", accuarcy)\n",
    "print(\"Best C:\", best_C)\n",
    "#print(\"Best kernel:\", best_kernel)\n",
    "#print(\"Best gamma:\", best_gamma)\n",
    "print(\"Best class_weight setting:\", best_class_weight)"
   ]
  },
  {
   "cell_type": "markdown",
   "metadata": {},
   "source": [
    "__Fit Model__"
   ]
  },
  {
   "cell_type": "code",
   "execution_count": 86,
   "metadata": {},
   "outputs": [],
   "source": [
    "svm = SVC(random_state = 0, \n",
    "          C = best_C, \n",
    "          kernel = 'rbf', \n",
    "          gamma = 'auto', \n",
    "          class_weight = best_class_weight,\n",
    "          probability=True).fit(X_res, y_res)"
   ]
  },
  {
   "cell_type": "markdown",
   "metadata": {},
   "source": [
    "__Model Evaluation__"
   ]
  },
  {
   "cell_type": "code",
   "execution_count": 87,
   "metadata": {},
   "outputs": [
    {
     "data": {
      "text/plain": [
       "(0.68, 0.9989462592202318, 0.982982982982983)"
      ]
     },
     "execution_count": 87,
     "metadata": {},
     "output_type": "execute_result"
    }
   ],
   "source": [
    "y_pred = svm.predict(X_test)\n",
    "\n",
    "tn, fp, fn, tp = confusion_matrix(y_test, y_pred).ravel()\n",
    "# Accuracy\n",
    "Acc = (tn+tp)/(tn+fp+fn+tp)\n",
    "# True Positive Rate: successfully predicted real job/ total real job\n",
    "TPR = tp/(tp+fn)\n",
    "# False Positive Rate: predicted fake, but actuall real / total real job\n",
    "FPR = fp/(tn+fp)\n",
    "# False Negetive Rate: predicted real, but actual fake / total fake job\n",
    "FNR = fn/(tp+fn)\n",
    "# True Negetive Rate: succesfully predicted fake job/ total fake job\n",
    "TNR = tn/(tn+fp)\n",
    "\n",
    "TPR, TNR, Acc"
   ]
  },
  {
   "cell_type": "code",
   "execution_count": 79,
   "metadata": {},
   "outputs": [
    {
     "data": {
      "text/html": [
       "<div>\n",
       "<style scoped>\n",
       "    .dataframe tbody tr th:only-of-type {\n",
       "        vertical-align: middle;\n",
       "    }\n",
       "\n",
       "    .dataframe tbody tr th {\n",
       "        vertical-align: top;\n",
       "    }\n",
       "\n",
       "    .dataframe thead th {\n",
       "        text-align: right;\n",
       "    }\n",
       "</style>\n",
       "<table border=\"1\" class=\"dataframe\">\n",
       "  <thead>\n",
       "    <tr style=\"text-align: right;\">\n",
       "      <th></th>\n",
       "      <th>Actual Fake Job</th>\n",
       "      <th>Actual Real Job</th>\n",
       "    </tr>\n",
       "  </thead>\n",
       "  <tbody>\n",
       "    <tr>\n",
       "      <th>Predicted Fake Job</th>\n",
       "      <td>34</td>\n",
       "      <td>1</td>\n",
       "    </tr>\n",
       "    <tr>\n",
       "      <th>Predicted Real Job</th>\n",
       "      <td>16</td>\n",
       "      <td>948</td>\n",
       "    </tr>\n",
       "  </tbody>\n",
       "</table>\n",
       "</div>"
      ],
      "text/plain": [
       "                    Actual Fake Job  Actual Real Job\n",
       "Predicted Fake Job               34                1\n",
       "Predicted Real Job               16              948"
      ]
     },
     "execution_count": 79,
     "metadata": {},
     "output_type": "execute_result"
    }
   ],
   "source": [
    "# Metric table \n",
    "data = {\n",
    "    'Predicted Fake Job': [tp, fp],\n",
    "    'Predicted Real Job': [fn, tn]\n",
    "}\n",
    "pd.DataFrame(data = data, index = ['Actual Fake Job', 'Actual Real Job']).transpose()"
   ]
  },
  {
   "cell_type": "code",
   "execution_count": null,
   "metadata": {},
   "outputs": [],
   "source": [
    "# ROC curve\n",
    "fpr, tpr, _ = roc_curve(y_test, svm.predict_proba(X_test)[::,1])\n",
    "roc_auc = auc(fpr, tpr)\n",
    "\n",
    "plt.figure(figsize=(8, 6))\n",
    "plt.title('ROC Curve', fontsize=18)\n",
    "plt.xlabel('FPR', fontsize=16)\n",
    "plt.ylabel('TPR', fontsize=16)\n",
    "plt.xlim([-0.0, 1.00])\n",
    "plt.ylim([-0.0, 1.00])\n",
    "plt.plot(fpr, tpr, lw=3, label='RF (area = {:0.2f})'.format(roc_auc))\n",
    "plt.plot([0, 1], [0, 1], color='navy', lw=3, linestyle='--')\n",
    "plt.legend(loc='lower right', fontsize=14)\n",
    "plt.show()"
   ]
  },
  {
   "cell_type": "markdown",
   "metadata": {},
   "source": [
    "## 4.4 Xboosting"
   ]
  },
  {
   "cell_type": "markdown",
   "metadata": {},
   "source": [
    "__Cross Validation__"
   ]
  },
  {
   "cell_type": "code",
   "execution_count": null,
   "metadata": {},
   "outputs": [],
   "source": [
    "xgb_model = xgb.XGBClassifier(learning_rate=0.02, n_estimators=300)\n",
    "\n",
    "params = {\n",
    "        'min_child_weight': [0.5, 1, 2],\n",
    "        'gamma': [0.4, 0.5, 0.6],\n",
    "        'subsample': [0.7, 0.75, 0.8, 0.85, 0.9],\n",
    "        'colsample_bytree': [0.01, 0.05, 0.06, 0.1, 0.2],\n",
    "        'max_depth': [10, 20, 25, 30]\n",
    "        }\n",
    "\n",
    "xb_cv = RandomizedSearchCV(xgb_model, param_distributions=params, n_iter=10, scoring='f1', cv=10)\n",
    "xb_cv.fit(X_res, y_res)"
   ]
  },
  {
   "cell_type": "code",
   "execution_count": null,
   "metadata": {},
   "outputs": [],
   "source": [
    "accuarcy = xb_cv.cv_results_['mean_test_score'] \n",
    "best_min_child_weight = xb_cv.best_params_['min_child_weight']\n",
    "best_gamma = xb_cv.best_params_['gamma']\n",
    "best_subsample = xb_cv.best_params_['subsample']\n",
    "best_colsample_bytree = xb_cv.best_params_['colsample_bytree']\n",
    "best_max_depth = xb_cv.best_params_['max_depth']\n",
    "\n",
    "print(\"Accuarcy:\", accuarcy)\n",
    "print(\"Best max_depth:\", best_max_depth)\n",
    "#--> 20\n",
    "print(\"Best min_child_weight:\", best_min_child_weight)\n",
    "#--> 1\n",
    "print(\"Best gamma:\", best_gamma)\n",
    "#--> 0.5\n",
    "print(\"Best subsample:\", best_subsample)\n",
    "#--> 0.8\n",
    "print(\"Best colsample_bytree:\", best_colsample_bytree)\n",
    "#--> 0.6"
   ]
  },
  {
   "cell_type": "code",
   "execution_count": null,
   "metadata": {},
   "outputs": [],
   "source": [
    "xgb_model = xgb.XGBClassifier(learning_rate=0.02, n_estimators=300, max_depth = best_max_depth, min_child_weight = best_min_child_weight, gamma = best_gamma, subsample = best_subsample, colsample_bytree = best_colsample_bytree).fit(X_res, y_res)\n"
   ]
  },
  {
   "cell_type": "code",
   "execution_count": null,
   "metadata": {},
   "outputs": [],
   "source": [
    "y_pred = xgb_model.predict(X_test)\n",
    "\n",
    "tn, fp, fn, tp = confusion_matrix(y_test, y_pred).ravel()\n",
    "# Accuracy\n",
    "Acc = (tn+tp)/(tn+fp+fn+tp)\n",
    "# True Positive Rate: successfully predicted real job/ total real job\n",
    "TPR = tp/(tp+fn)\n",
    "# False Positive Rate: predicted fake, but actuall real / total real job\n",
    "FPR = fp/(tn+fp)\n",
    "# False Negetive Rate: predicted real, but actual fake / total fake job\n",
    "FNR = fn/(tp+fn)\n",
    "# True Negetive Rate: succesfully predicted fake job/ total fake job\n",
    "TNR = tn/(tn+fp)\n",
    "\n",
    "TPR, TNR, Acc"
   ]
  },
  {
   "cell_type": "markdown",
   "metadata": {
    "tags": []
   },
   "source": [
    "# 5. Unsupervised Clustering"
   ]
  },
  {
   "cell_type": "code",
   "execution_count": 106,
   "metadata": {},
   "outputs": [],
   "source": [
    "def perf_measure(y_actual, y_pred):\n",
    "    TP = 0\n",
    "    FP = 0\n",
    "    TN = 0\n",
    "    FN = 0\n",
    "\n",
    "    for i in range(len(y_pred)): \n",
    "        if y_actual[i] == 1 and y_pred[i] == 1:\n",
    "           TP += 1\n",
    "        if y_actual[i] == 0 and y_pred[i] == 1:\n",
    "           FP += 1\n",
    "        if y_actual[i] == 0 and y_pred[i] == 0:\n",
    "           TN += 1\n",
    "        if y_actual[i] == 1 and y_pred[i] == 0:\n",
    "           FN += 1\n",
    "\n",
    "    return(TP, FP, TN, FN)"
   ]
  },
  {
   "cell_type": "code",
   "execution_count": 105,
   "metadata": {},
   "outputs": [
    {
     "name": "stdout",
     "output_type": "stream",
     "text": [
      "TPR: 0.20711974110032363 ;  TNR: 0.5826862712704444 ; Accuracy: 0.5644451430367808\n",
      "TPR: 0.7928802588996764 ;  TNR: 0.4159920700479101 ; Accuracy: 0.4342973907576234\n",
      "TPR: 0.7928802588996764 ;  TNR: 0.4161572773831158 ; Accuracy: 0.4344545740333228\n",
      "TPR: 0.20711974110032363 ;  TNR: 0.5833471006112672 ; Accuracy: 0.5650738761395787\n",
      "TPR: 0.20711974110032363 ;  TNR: 0.5782256732198909 ; Accuracy: 0.5602011945928953\n",
      "TPR: 0.7928802588996764 ;  TNR: 0.4161572773831158 ; Accuracy: 0.4344545740333228\n"
     ]
    }
   ],
   "source": [
    "for random_state in [0, 1, 2, 3, 4, 5]:\n",
    "    kmeans = KMeans(n_clusters = 2, random_state = random_state)\n",
    "    labels = kmeans.fit_predict(X_train)\n",
    "    \n",
    "    tp, fp, tn, fn = perf_measure(y_train, labels)\n",
    "    # Accuracy\n",
    "    Acc = (tn+tp)/(tn+fp+fn+tp)\n",
    "    # True Positive Rate: successfully predicted real job/ total real job\n",
    "    TPR = tp/(tp+fn)\n",
    "    # False Positive Rate: predicted fake, but actuall real / total real job\n",
    "    FPR = fp/(tn+fp)\n",
    "    # False Negetive Rate: predicted real, but actual fake / total fake job\n",
    "    FNR = fn/(tp+fn)\n",
    "    # True Negetive Rate: succesfully predicted fake job/ total fake job\n",
    "    TNR = tn/(tn+fp)\n",
    "    \n",
    "    print(\"TPR:\", TPR, \"; \", \"TNR:\", TNR, \"; \"\"Accuracy:\", Acc)"
   ]
  },
  {
   "cell_type": "markdown",
   "metadata": {},
   "source": [
    "# ---------Final Model----------"
   ]
  },
  {
   "cell_type": "code",
   "execution_count": 92,
   "metadata": {},
   "outputs": [],
   "source": [
    "# use all three data sets to train the model\n",
    "\n",
    "_1 = pd.read_csv(\"job_training_data.csv\")\n",
    "_2 = pd.read_csv(\"job_verification_data.csv\")\n",
    "_3 = pd.read_csv(\"job_verification_data_2.csv\")\n",
    "\n",
    "final_job = pd.concat([_1, _2, _3])\n",
    "final_job = final_job.reset_index()\n",
    "final_job = final_job.iloc[:, 1:]\n",
    "\n",
    "y_final_train = final_job.iloc[:,-1]\n",
    "X_final_train = pipeline(final_job)\n",
    "\n",
    "# Use SMOTE to balance data\n",
    "smk  = SMOTETomek(random_state=56)\n",
    "X_final_res, y_final_res = smk.fit_resample(X_final_train,y_final_train)\n"
   ]
  },
  {
   "cell_type": "markdown",
   "metadata": {},
   "source": [
    "__SVM as the final model__"
   ]
  },
  {
   "cell_type": "code",
   "execution_count": 133,
   "metadata": {},
   "outputs": [],
   "source": [
    "# cross-validation\n",
    "grid_values = {'C': [2.80, 3.00, 3.20], 'class_weight':['balanced', {1:2}, {1:3}]} \n",
    "\n",
    "            \n",
    "svm = SVC(random_state=0, kernel = 'rbf', gamma = 'auto')\n",
    "svm_cv = GridSearchCV(svm, param_grid=grid_values, scoring='accuracy', cv=10, verbose=0, n_jobs=-1)\n",
    "svm_cv.fit(X_final_res, y_final_res);"
   ]
  },
  {
   "cell_type": "code",
   "execution_count": 140,
   "metadata": {},
   "outputs": [
    {
     "name": "stdout",
     "output_type": "stream",
     "text": [
      "Mean accuarcy: 0.9989922730929154\n",
      "Best C: 2.8\n",
      "Best class_weight setting: {1: 2}\n"
     ]
    }
   ],
   "source": [
    "accuarcy = svm_cv.cv_results_['mean_test_score'] \n",
    "best_C = svm_cv.best_params_['C']\n",
    "best_class_weight = svm_cv.best_params_['class_weight']\n",
    "\n",
    "print(\"Accuarcy:\", accuarcy)\n",
    "print(\"Best C:\", best_C)\n",
    "print(\"Best class_weight setting:\", best_class_weight)"
   ]
  },
  {
   "cell_type": "markdown",
   "metadata": {},
   "source": [
    "__Fit Model__"
   ]
  },
  {
   "cell_type": "code",
   "execution_count": 130,
   "metadata": {},
   "outputs": [],
   "source": [
    "svm_final = SVC(random_state = 0, \n",
    "          C = best_C, \n",
    "          kernel = 'rbf', \n",
    "          gamma = 'auto', \n",
    "          class_weight = best_class_weight,\n",
    "          probability=True).fit(X_final_res, y_final_res)"
   ]
  },
  {
   "cell_type": "markdown",
   "metadata": {},
   "source": [
    "__Model Evaluation__"
   ]
  },
  {
   "cell_type": "code",
   "execution_count": 1,
   "metadata": {},
   "outputs": [
    {
     "ename": "NameError",
     "evalue": "name 'pd' is not defined",
     "output_type": "error",
     "traceback": [
      "\u001b[1;31m---------------------------------------------------------------------------\u001b[0m",
      "\u001b[1;31mNameError\u001b[0m                                 Traceback (most recent call last)",
      "\u001b[1;32m<ipython-input-1-5a79b105fb47>\u001b[0m in \u001b[0;36m<module>\u001b[1;34m\u001b[0m\n\u001b[1;32m----> 1\u001b[1;33m \u001b[0mtest\u001b[0m \u001b[1;33m=\u001b[0m \u001b[0mpd\u001b[0m\u001b[1;33m.\u001b[0m\u001b[0mread_csv\u001b[0m\u001b[1;33m(\u001b[0m\u001b[1;34m\"job_validation_data.csv\"\u001b[0m\u001b[1;33m)\u001b[0m\u001b[1;33m\u001b[0m\u001b[1;33m\u001b[0m\u001b[0m\n\u001b[0m",
      "\u001b[1;31mNameError\u001b[0m: name 'pd' is not defined"
     ]
    }
   ],
   "source": [
    "test = pd.read_csv(\"job_validation_data.csv\")"
   ]
  },
  {
   "cell_type": "code",
   "execution_count": 127,
   "metadata": {},
   "outputs": [],
   "source": [
    "y_test = test.iloc[:,-1]\n",
    "X_test = pipeline(test)"
   ]
  },
  {
   "cell_type": "code",
   "execution_count": 131,
   "metadata": {},
   "outputs": [
    {
     "data": {
      "text/plain": [
       "(0.8414634146341463, 1.0, 0.948)"
      ]
     },
     "execution_count": 131,
     "metadata": {},
     "output_type": "execute_result"
    }
   ],
   "source": [
    "y_pred = svm_final.predict(X_test)\n",
    "\n",
    "tn, fp, fn, tp = confusion_matrix(y_test, y_pred).ravel()\n",
    "# Accuracy\n",
    "Acc = (tn+tp)/(tn+fp+fn+tp)\n",
    "# True Positive Rate: successfully predicted real job/ total real job\n",
    "TPR = tp/(tp+fn)\n",
    "# False Positive Rate: predicted fake, but actuall real / total real job\n",
    "FPR = fp/(tn+fp)\n",
    "# False Negetive Rate: predicted real, but actual fake / total fake job\n",
    "FNR = fn/(tp+fn)\n",
    "# True Negetive Rate: succesfully predicted fake job/ total fake job\n",
    "TNR = tn/(tn+fp)\n",
    "\n",
    "TPR, TNR, Acc"
   ]
  },
  {
   "cell_type": "code",
   "execution_count": 132,
   "metadata": {},
   "outputs": [
    {
     "data": {
      "text/html": [
       "<div>\n",
       "<style scoped>\n",
       "    .dataframe tbody tr th:only-of-type {\n",
       "        vertical-align: middle;\n",
       "    }\n",
       "\n",
       "    .dataframe tbody tr th {\n",
       "        vertical-align: top;\n",
       "    }\n",
       "\n",
       "    .dataframe thead th {\n",
       "        text-align: right;\n",
       "    }\n",
       "</style>\n",
       "<table border=\"1\" class=\"dataframe\">\n",
       "  <thead>\n",
       "    <tr style=\"text-align: right;\">\n",
       "      <th></th>\n",
       "      <th>Actual Fake Job</th>\n",
       "      <th>Actual Real Job</th>\n",
       "    </tr>\n",
       "  </thead>\n",
       "  <tbody>\n",
       "    <tr>\n",
       "      <th>Predicted Fake Job</th>\n",
       "      <td>276</td>\n",
       "      <td>0</td>\n",
       "    </tr>\n",
       "    <tr>\n",
       "      <th>Predicted Real Job</th>\n",
       "      <td>52</td>\n",
       "      <td>672</td>\n",
       "    </tr>\n",
       "  </tbody>\n",
       "</table>\n",
       "</div>"
      ],
      "text/plain": [
       "                    Actual Fake Job  Actual Real Job\n",
       "Predicted Fake Job              276                0\n",
       "Predicted Real Job               52              672"
      ]
     },
     "execution_count": 132,
     "metadata": {},
     "output_type": "execute_result"
    }
   ],
   "source": [
    "# Metric table \n",
    "data = {\n",
    "    'Predicted Fake Job': [tp, fp],\n",
    "    'Predicted Real Job': [fn, tn]\n",
    "}\n",
    "pd.DataFrame(data = data, index = ['Actual Fake Job', 'Actual Real Job']).transpose()"
   ]
  },
  {
   "cell_type": "code",
   "execution_count": null,
   "metadata": {},
   "outputs": [],
   "source": []
  }
 ],
 "metadata": {
  "colab": {
   "collapsed_sections": [
    "l8bBsf9l35IU",
    "RfxmLxOJ35Ig",
    "e8mBcnV135Iw",
    "FkbliCaa35I5",
    "wchQ8YAI35JB",
    "7ffQDKL-35JK",
    "LINfLyia35JQ"
   ],
   "name": "stat-154-Final-Project-3.ipynb",
   "provenance": [],
   "toc_visible": true
  },
  "kernelspec": {
   "display_name": "Python 3",
   "language": "python",
   "name": "python3"
  },
  "language_info": {
   "codemirror_mode": {
    "name": "ipython",
    "version": 3
   },
   "file_extension": ".py",
   "mimetype": "text/x-python",
   "name": "python",
   "nbconvert_exporter": "python",
   "pygments_lexer": "ipython3",
   "version": "3.8.5"
  }
 },
 "nbformat": 4,
 "nbformat_minor": 4
}
